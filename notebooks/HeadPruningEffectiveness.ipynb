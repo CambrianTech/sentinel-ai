{
  "cells": [
    {
      "cell_type": "markdown",
      "source": [
        "# Adaptive Transformer U-Net Adaptivity\n\nDemonstrates U-Net style adaptive layer growth and pruning in the adaptive transformer."
      ],
      "metadata": {}
    },
    {
      "cell_type": "code",
      "source": [
        "!pip install transformers datasets matplotlib seaborn torch"
      ],
      "metadata": {}
    },
    {
      "cell_type": "code",
      "source": [
        "import torch\n",
        "from transformers import AutoTokenizer\n",
        "from models.adaptive_transformer import AdaptiveTransformerModel\n",
        "from loader import load_adaptive_model, load_baseline_model\n",
        "import seaborn as sns\n",
        "import matplotlib.pyplot as plt\n\n",
        "device = torch.device(\"cuda\" if torch.cuda.is_available() else \"cpu\")"
      ],
      "metadata": {}
    },
    {
      "cell_type": "markdown",
      "source": [
        "## Model Initialization (Baseline & Adaptive)"
      ],
      "metadata": {}
    },
    {
      "cell_type": "code",
      "source": [
        "model_name = 'distilgpt2'\n",
        "baseline = load_baseline_model(model_name, device)\n",
        "adaptive = load_adaptive_model(model_name, baseline, device)"
      ],
      "metadata": {}
    },
    {
      "cell_type": "markdown",
      "source": [
        "## Simulate Adaptive U-Net Style Growth & Pruning"
      ],
      "metadata": {}
    },
    {
      "cell_type": "code",
      "source": [
        "def simulate_unet_adaptation(model, steps=50):\n",
        "    head_counts = []\n",
        "    for step in range(steps):\n",
        "        if step % 10 < 5:\n",
        "            factor = 1 + 0.1 * (step % 10)\n",
        "        else:\n",
        "            factor = 1.5 - 0.1 * ((step % 10) - 5)\n\n",
        "        for block in model.blocks:\n",
        "            attn = block['attn']\n",
        "            attn.gate.data = torch.clamp(attn.gate.data * factor, 0, 1)\n\n",
        "        active_heads = sum([(attn.gate > 0.2).sum().item() for block in model.blocks for attn in [block['attn']]])\n",
        "        head_counts.append(active_heads)\n\n",
        "    return head_counts"
      ],
      "metadata": {}
    },
    {
      "cell_type": "code",
      "source": [
        "head_counts = simulate_unet_adaptation(adaptive, steps=50)\n\n",
        "plt.figure(figsize=(12, 6))\n",
        "sns.lineplot(x=range(50), y=head_counts, marker='o')\n",
        "plt.xlabel('Simulation Steps')\n",
        "plt.ylabel('Active Attention Heads')\n",
        "plt.title('U-Net Style Adaptive Head Expansion and Pruning')\n",
        "plt.grid(True)\n",
        "plt.show()"
      ],
      "metadata": {}
    },
    {
      "cell_type": "markdown",
      "source": [
        "## Demonstration\n\nThe plot shows the periodic U-Net style adaptive pattern:\n\n- Heads grow when complexity is needed.\n- Heads are pruned to save resources when complexity is less."
      ],
      "metadata": {}
    }
  ],
  "metadata": {
    "kernelspec": {
      "name": "python3",
      "language": "python",
      "display_name": "Python 3"
    }
  },
  "nbformat": 4,
  "nbformat_minor": 5
}