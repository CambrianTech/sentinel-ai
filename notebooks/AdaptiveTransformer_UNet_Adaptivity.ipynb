{
 "cells": [
  {
   "cell_type": "markdown",
   "id": "835dfaeb",
   "metadata": {},
   "source": [
    "# Adaptive Transformer U-Net Adaptivity\n",
    "\n",
    "Demonstrates U-Net style adaptive layer growth and pruning in the adaptive transformer."
   ]
  },
  {
   "cell_type": "code",
   "execution_count": null,
   "id": "be8e4d3e",
   "metadata": {},
   "outputs": [],
   "source": [
    "!pip install transformers datasets matplotlib seaborn torch"
   ]
  },
  {
   "cell_type": "code",
   "execution_count": null,
   "id": "3866fbf4",
   "metadata": {},
   "outputs": [],
   "source": [
    "import torch\n",
    "from transformers import AutoTokenizer\n",
    "from models.adaptive_transformer import AdaptiveTransformerModel\n",
    "from loader import load_adaptive_model, load_baseline_model\n",
    "import seaborn as sns\n",
    "import matplotlib.pyplot as plt\n",
    "\n",
    "device = torch.device(\"cuda\" if torch.cuda.is_available() else \"cpu\")"
   ]
  },
  {
   "cell_type": "markdown",
   "id": "c357abba",
   "metadata": {},
   "source": [
    "## Model Initialization (Baseline & Adaptive)"
   ]
  },
  {
   "cell_type": "code",
   "execution_count": null,
   "id": "378588da",
   "metadata": {},
   "outputs": [],
   "source": [
    "model_name = 'distilgpt2'\n",
    "baseline = load_baseline_model(model_name, device)\n",
    "adaptive = load_adaptive_model(model_name, baseline, device)"
   ]
  },
  {
   "cell_type": "markdown",
   "id": "41160f42",
   "metadata": {},
   "source": [
    "## Simulate Adaptive U-Net Style Growth & Pruning"
   ]
  },
  {
   "cell_type": "code",
   "execution_count": null,
   "id": "742ef107",
   "metadata": {},
   "outputs": [],
   "source": [
    "def simulate_unet_adaptation(model, steps=50):\n",
    "    head_counts = []\n",
    "    for step in range(steps):\n",
    "        if step % 10 < 5:\n",
    "            factor = 1 + 0.1 * (step % 10)\n",
    "        else:\n",
    "            factor = 1.5 - 0.1 * ((step % 10) - 5)\n",
    "\n",
    "        for block in model.blocks:\n",
    "            attn = block['attn']\n",
    "            attn.gate.data = torch.clamp(attn.gate.data * factor, 0, 1)\n",
    "\n",
    "        active_heads = sum([(attn.gate > 0.2).sum().item() for block in model.blocks for attn in [block['attn']]])\n",
    "        head_counts.append(active_heads)\n",
    "\n",
    "    return head_counts"
   ]
  },
  {
   "cell_type": "code",
   "execution_count": null,
   "id": "4f7b6a12",
   "metadata": {},
   "outputs": [],
   "source": [
    "head_counts = simulate_unet_adaptation(adaptive, steps=50)\n",
    "\n",
    "plt.figure(figsize=(12, 6))\n",
    "sns.lineplot(x=range(50), y=head_counts, marker='o')\n",
    "plt.xlabel('Simulation Steps')\n",
    "plt.ylabel('Active Attention Heads')\n",
    "plt.title('U-Net Style Adaptive Head Expansion and Pruning')\n",
    "plt.grid(True)\n",
    "plt.show()"
   ]
  },
  {
   "cell_type": "markdown",
   "id": "10a7ac09",
   "metadata": {},
   "source": [
    "## Demonstration\n",
    "\n",
    "The plot shows the periodic U-Net style adaptive pattern:\n",
    "\n",
    "- Heads grow when complexity is needed.\n",
    "- Heads are pruned to save resources when complexity is less."
   ]
  }
 ],
 "metadata": {},
 "nbformat": 4,
 "nbformat_minor": 5
}
