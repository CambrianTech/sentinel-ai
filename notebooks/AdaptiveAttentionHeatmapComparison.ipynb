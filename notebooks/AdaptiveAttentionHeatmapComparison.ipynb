{
 "cells": [
  {
   "cell_type": "markdown",
   "id": "a3d0f9e5",
   "metadata": {},
   "source": [
    "# 🔥 Adaptive Attention Heatmap Comparison\n",
    "\n",
    "This notebook visualizes the attention patterns (as heatmaps) of an adaptive transformer compared to a baseline model like GPT-2 or DistilGPT2.\n",
    "\n",
    "- Uses Hugging Face models\n",
    "- Visualizes the attention matrices\n",
    "- Supports adaptive and non-adaptive comparison"
   ]
  },
  {
   "cell_type": "code",
   "execution_count": null,
   "id": "7f7f451f",
   "metadata": {},
   "outputs": [],
   "source": [
    "!pip install transformers datasets matplotlib"
   ]
  },
  {
   "cell_type": "code",
   "execution_count": null,
   "id": "80c41166",
   "metadata": {},
   "outputs": [],
   "source": [
    "import torch\n",
    "import matplotlib.pyplot as plt\n",
    "from transformers import AutoModelForCausalLM, AutoTokenizer\n",
    "from models.adaptive_transformer import AdaptiveTransformerModel\n",
    "from models.loaders.loader import load_baseline_model, load_adaptive_model"
   ]
  },
  {
   "cell_type": "markdown",
   "id": "02ed08b9",
   "metadata": {},
   "source": [
    "## ⚙️ Configuration"
   ]
  },
  {
   "cell_type": "code",
   "execution_count": null,
   "id": "37cdf5c9",
   "metadata": {},
   "outputs": [],
   "source": [
    "device = torch.device(\"cuda\" if torch.cuda.is_available() else \"cpu\")\n",
    "model_name = \"distilgpt2\"\n",
    "prompt = \"The quick brown fox jumps over the lazy dog.\"\n",
    "\n",
    "# Load tokenizer\n",
    "tokenizer = AutoTokenizer.from_pretrained(model_name)\n",
    "input_ids = tokenizer(prompt, return_tensors=\"pt\").input_ids.to(device)"
   ]
  },
  {
   "cell_type": "markdown",
   "id": "66eddae2",
   "metadata": {},
   "source": [
    "## 🔍 Load Models"
   ]
  },
  {
   "cell_type": "code",
   "execution_count": null,
   "id": "641aae69",
   "metadata": {},
   "outputs": [],
   "source": [
    "baseline = load_baseline_model(model_name, device)\n",
    "adaptive = load_adaptive_model(model_name, baseline, device)\n",
    "baseline.eval()\n",
    "adaptive.eval()"
   ]
  },
  {
   "cell_type": "markdown",
   "id": "9999e6fb",
   "metadata": {},
   "source": [
    "## 🎯 Extract Attention (Baseline)"
   ]
  },
  {
   "cell_type": "code",
   "execution_count": null,
   "id": "0c50e8fd",
   "metadata": {},
   "outputs": [],
   "source": [
    "with torch.no_grad():\n",
    "    output = baseline(input_ids, output_attentions=True)\n",
    "    baseline_attn = output.attentions  # List: [layer][batch, head, seq, seq]"
   ]
  },
  {
   "cell_type": "markdown",
   "id": "cf09094c",
   "metadata": {},
   "source": [
    "## 🎯 Extract Attention (Adaptive)"
   ]
  },
  {
   "cell_type": "code",
   "execution_count": null,
   "id": "34ff3e55",
   "metadata": {},
   "outputs": [],
   "source": [
    "# Re-implement forward with attention output for adaptive model\n",
    "def get_adaptive_attn(model, input_ids):\n",
    "    model.eval()\n",
    "    attn_maps = []\n",
    "    x = model.embed(input_ids)\n",
    "    for block in model.blocks:\n",
    "        attn = block[\"attn\"]\n",
    "        q = torch.stack([head(x) for head in attn.W_q], dim=1)\n",
    "        k = torch.stack([head(x) for head in attn.W_k], dim=1)\n",
    "        v = torch.stack([head(x) for head in attn.W_v], dim=1)\n",
    "        scores = torch.matmul(q, k.transpose(-2, -1)) / (attn.head_dim ** 0.5)\n",
    "        weights = torch.softmax(scores, dim=-1)\n",
    "        attn_maps.append(weights.cpu())\n",
    "        # forward continues, not shown for brevity\n",
    "    return attn_maps\n",
    "\n",
    "adaptive_attn = get_adaptive_attn(adaptive, input_ids)"
   ]
  },
  {
   "cell_type": "markdown",
   "id": "93d66526",
   "metadata": {},
   "source": [
    "## 📊 Plot Attention Heatmaps"
   ]
  },
  {
   "cell_type": "code",
   "execution_count": null,
   "id": "e800fa78",
   "metadata": {},
   "outputs": [],
   "source": [
    "def plot_heatmaps(attn_maps, title_prefix, layer=0, max_heads=4):\n",
    "    fig, axes = plt.subplots(1, max_heads, figsize=(16, 4))\n",
    "    for i in range(min(max_heads, attn_maps[layer].shape[1])):\n",
    "        ax = axes[i]\n",
    "        ax.imshow(attn_maps[layer][0, i], cmap=\"viridis\")\n",
    "        ax.set_title(f\"{title_prefix} Head {i}\")\n",
    "        ax.axis(\"off\")\n",
    "    plt.tight_layout()\n",
    "    plt.show()\n",
    "\n",
    "plot_heatmaps(baseline_attn, \"Baseline\", layer=0)\n",
    "plot_heatmaps(adaptive_attn, \"Adaptive\", layer=0)"
   ]
  }
 ],
 "metadata": {
  "kernelspec": {
   "display_name": "Python 3",
   "language": "python",
   "name": "python3"
  },
  "language_info": {
   "name": "python",
   "version": "3.10"
  }
 },
 "nbformat": 4,
 "nbformat_minor": 5
}
