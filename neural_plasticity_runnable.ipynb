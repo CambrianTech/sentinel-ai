{
 "cells": [
  {
   "cell_type": "markdown",
   "metadata": {},
   "source": [
    "# Neural Plasticity Demo: Dynamic Pruning & Regrowth (v0.0.63 2025-04-20 20:30:00)\n",
    "\n",
    "This notebook demonstrates Sentinel AI's neural plasticity system, which allows transformer models to dynamically prune and regrow attention heads during training based on utility metrics. [ID: 2a9d6687]\n",
    "\n",
    "### Changes in v0.0.63:\n",
    "- Implemented fully modular architecture via NeuralPlasticityExperiment class\n",
    "- Simplified workflow with high-level experiment API\n",
    "- Added one-shot experiment functionality via run_full_experiment()\n",
    "- Enhanced Apple Silicon compatibility with improved tensor handling\n",
    "- Added cross-platform visualization with device-aware tensor conversion\n",
    "- Added workarounds for PyTorch/BLAS crashes on M1/M2/M3 chips\n",
    "- Improved environment detection for Colab/local execution\n",
    "\n",
    "## What is Neural Plasticity?\n",
    "\n",
    "Neural plasticity is the ability of neural networks to adapt their structure over time through pruning (removing unused connections) and regrowth (restoring useful connections). This mimics how biological brains form efficient neural pathways.\n",
    "\n",
    "In this demo, we:\n",
    "1. Track the entropy and gradient patterns of each attention head\n",
    "2. Dynamically prune high-entropy, low-gradient heads (unfocused, less useful)\n",
    "3. Selectively revive low-entropy, higher-gradient heads (potentially useful)\n",
    "4. Visualize the \"brain dynamics\" over time\n",
    "\n",
    "This allows models to form more efficient neural structures during training.\n",
    "\n",
    "## Environment Compatibility\n",
    "\n",
    "This notebook automatically detects your execution environment and applies the appropriate optimizations:\n",
    "\n",
    "- **Colab:** Uses GPU acceleration when available for maximum performance\n",
    "- **Apple Silicon:** Applies safeguards against BLAS/libtorch crashes that commonly occur on M1/M2/M3 Macs\n",
    "- **Standard Hardware:** Operates normally with GPU acceleration when available\n",
    "\n",
    "No manual configuration is required - just run the cells and the notebook will optimize for your environment."
   ]
  },
  {
   "cell_type": "code",
   "execution_count": null,
   "metadata": {},
   "outputs": [],
   "source": [
    "# Check and install system dependencies if needed\n",
    "!apt-get update -qq > /dev/null\n",
    "!apt-get install -qq libopenblas-dev > /dev/null  # For better performance"
   ]
  },
  {
   "cell_type": "code",
   "execution_count": null,
   "metadata": {},
   "outputs": [],
   "source": [
    "# Install required packages\n",
    "!pip install -q torch transformers datasets matplotlib seaborn\n",
    "\n",
    "# Clone the Sentinel AI repository\n",
    "!git clone -b feature/implement-adaptive-plasticity https://github.com/CambrianTech/sentinel-ai.git\n",
    "%cd sentinel-ai\n",
    "\n",
    "# Add repository to path\n",
    "import sys\n",
    "sys.path.append('.')"
   ]
  },
  {
   "cell_type": "markdown",
   "metadata": {},
   "source": [
    "# Configure the Experiment\n",
    "\n",
    "Let's set up our configuration for the neural plasticity experiment using the new modular API."
   ]
  },
  {
   "cell_type": "code",
   "execution_count": null,
   "metadata": {},
   "outputs": [],
   "source": [
    "# Import the needed modules\n",
    "%matplotlib inline\n",
    "import os\n",
    "import torch\n",
    "import numpy as np\n",
    "import matplotlib.pyplot as plt\n",
    "from datetime import datetime\n",
    "\n",
    "# Import the Neural Plasticity Experiment class\n",
    "from utils.neural_plasticity.experiment import NeuralPlasticityExperiment\n",
    "\n",
    "# Import neural plasticity utilities\n",
    "from utils.neural_plasticity import PruningStrategy, PruningMode\n",
    "\n",
    "# Configuration for the experiment\n",
    "MODEL_NAME = \"distilgpt2\"  # Small GPT-2 model for faster demonstration\n",
    "DATASET = \"wikitext\"\n",
    "DATASET_CONFIG = \"wikitext-2-raw-v1\"\n",
    "MAX_LENGTH = 128\n",
    "BATCH_SIZE = 4\n",
    "LEARNING_RATE = 5e-5\n",
    "PRUNING_LEVEL = 0.1      # Target to prune approximately 10% of heads in each step\n",
    "PRUNING_STRATEGY = PruningStrategy.COMBINED  # Use both entropy and gradient information\n",
    "\n",
    "# Set to True to enable continuous training for long periods\n",
    "ENABLE_LONG_TRAINING = False  # Set to False for demo purposes to avoid memory/runtime issues\n",
    "\n",
    "# If ENABLE_LONG_TRAINING is False, use these reduced settings\n",
    "if not ENABLE_LONG_TRAINING:\n",
    "    NUM_WARMUP_EPOCHS = 1        # Limit warmup epochs\n",
    "    NUM_PRUNING_CYCLES = 3       # Run 3 pruning cycles\n",
    "    TRAINING_STEPS_PER_CYCLE = 100  # Limit steps per cycle for demo\n",
    "else:\n",
    "    NUM_WARMUP_EPOCHS = 1        # Run a full epoch of warmup\n",
    "    NUM_PRUNING_CYCLES = 5       # Run 5 pruning cycles\n",
    "    TRAINING_STEPS_PER_CYCLE = 500  # More training steps per cycle\n",
    "\n",
    "# Create output directory with timestamp\n",
    "timestamp = datetime.now().strftime(\"%Y%m%d_%H%M%S\")\n",
    "OUTPUT_DIR = f\"neural_plasticity_output/run_{timestamp}\"\n",
    "os.makedirs(OUTPUT_DIR, exist_ok=True)\n",
    "\n",
    "# Define unique ID for cache busting\n",
    "unique_id = \"2a9d6687\"\n",
    "print(f\"Running neural plasticity experiment with modular API [ID: {unique_id}]\")"
   ]
  },
  {
   "cell_type": "markdown",
   "metadata": {},
   "source": [
    "# Initialize the NeuralPlasticityExperiment\n",
    "\n",
    "The `NeuralPlasticityExperiment` class handles all the setup, data loading, and configuration automatically."
   ]
  },
  {
   "cell_type": "code",
   "metadata": {},
   "outputs": [],
   "source": "# Initialize the experiment\nexperiment = NeuralPlasticityExperiment(\n    model_name=MODEL_NAME,\n    dataset=DATASET,\n    dataset_config=DATASET_CONFIG,\n    output_dir=OUTPUT_DIR,\n    batch_size=BATCH_SIZE,\n    max_length=MAX_LENGTH,\n    pruning_level=PRUNING_LEVEL,\n    pruning_strategy=PRUNING_STRATEGY,\n    learning_rate=LEARNING_RATE,\n    verbose=True,  # Print detailed information\n    save_results=True  # Save results to disk\n)\n\n# Let's check the environment information reported by NeuralPlasticity API\nfrom utils.neural_plasticity import NeuralPlasticity\n\nenv_info = NeuralPlasticity.get_environment_info()\nprint(f\"\\nEnvironment information:\")\nfor key, value in env_info.items():\n    print(f\"  {key}: {value}\")"
  },
  {
   "cell_type": "markdown",
   "metadata": {},
   "source": [
    "# Set Up the Experiment\n",
    "\n",
    "First, we need to set up the experiment by loading the model, tokenizer, and datasets."
   ]
  },
  {
   "cell_type": "code",
   "execution_count": null,
   "metadata": {},
   "outputs": [],
   "source": [
    "# Set up the experiment (load model, tokenizer, and datasets)\n",
    "experiment.setup()\n",
    "\n",
    "# Verify we have access to the model and dataloaders\n",
    "print(f\"\\nModel: {experiment.model_name}\")\n",
    "print(f\"Device: {experiment.device}\")\n",
    "\n",
    "if experiment.train_dataloader and experiment.validation_dataloader:\n",
    "    print(f\"Training examples: {len(experiment.train_dataloader.dataset)}\")\n",
    "    print(f\"Validation examples: {len(experiment.validation_dataloader.dataset)}\")"
   ]
  },
  {
   "cell_type": "markdown",
   "metadata": {},
   "source": [
    "# Run Model Warm-up\n",
    "\n",
    "Before measuring baseline performance and applying neural plasticity, we'll run a brief warm-up phase to get initial attention patterns and stabilize metrics."
   ]
  },
  {
   "cell_type": "code",
   "execution_count": null,
   "metadata": {},
   "outputs": [],
   "source": [
    "# Run warmup training until loss stabilizes\n",
    "warmup_results = experiment.run_warmup(\n",
    "    max_epochs=NUM_WARMUP_EPOCHS,  # Maximum number of warmup epochs\n",
    "    patience=15,  # Number of steps with no decrease to consider stabilized\n",
    "    min_steps=50,  # Minimum number of warm-up steps\n",
    "    max_steps=150  # Maximum number of warm-up steps per epoch\n",
    ")\n",
    "\n",
    "# Plot the warmup losses\n",
    "plt.figure(figsize=(10, 5))\n",
    "plt.plot(warmup_results[\"losses\"], label=\"Loss\")\n",
    "if len(warmup_results[\"smoothed_losses\"]) == len(warmup_results[\"losses\"]):\n",
    "    plt.plot(warmup_results[\"smoothed_losses\"], label=\"Smoothed Loss\", linestyle=\"--\")\n",
    "plt.title(\"Warmup Training Loss\")\n",
    "plt.xlabel(\"Step\")\n",
    "plt.ylabel(\"Loss\")\n",
    "plt.legend()\n",
    "plt.grid(alpha=0.3)\n",
    "plt.show()\n",
    "\n",
    "# Display baseline evaluation metrics\n",
    "print(f\"\\nBaseline evaluation after warm-up:\")\n",
    "print(f\"  Loss: {experiment.baseline_loss:.4f}\")\n",
    "print(f\"  Perplexity: {experiment.baseline_perplexity:.2f}\")"
   ]
  },
  {
   "cell_type": "markdown",
   "metadata": {},
   "source": [
    "# Analyze Attention Patterns\n",
    "\n",
    "Now let's analyze the attention patterns in the model to calculate entropy and gradients."
   ]
  },
  {
   "cell_type": "code",
   "execution_count": null,
   "metadata": {},
   "outputs": [],
   "source": [
    "# Analyze attention patterns\n",
    "attention_analysis = experiment.analyze_attention()\n",
    "\n",
    "# Get the model structure\n",
    "num_layers, num_heads = attention_analysis[\"model_structure\"]\n",
    "print(f\"Model has {num_layers} layers with {num_heads} heads each\")\n",
    "print(f\"Total number of attention heads: {num_layers * num_heads}\")\n",
    "\n",
    "# The entropy and gradient values are stored in the experiment object\n",
    "entropy_values = experiment.entropy_values\n",
    "grad_norm_values = experiment.grad_norm_values\n",
    "\n",
    "# Visualize the entropy and gradient heat maps side by side using subplots\n",
    "fig, (ax1, ax2) = plt.subplots(1, 2, figsize=(15, 6))\n",
    "\n",
    "# Plot entropy values\n",
    "im1 = ax1.imshow(entropy_values.detach().cpu().numpy(), cmap=\"viridis\", aspect=\"auto\")\n",
    "fig.colorbar(im1, ax=ax1, label=\"Entropy\")\n",
    "ax1.set_title(\"Attention Head Entropy (Higher = Less Focused)\")\n",
    "ax1.set_xlabel(\"Head Index\")\n",
    "ax1.set_ylabel(\"Layer Index\")\n",
    "\n",
    "# Plot gradient values\n",
    "im2 = ax2.imshow(grad_norm_values.detach().cpu().numpy(), cmap=\"plasma\", aspect=\"auto\")\n",
    "fig.colorbar(im2, ax=ax2, label=\"Gradient Norm\")\n",
    "ax2.set_title(\"Attention Head Gradient Norms (Higher = More Learning)\")\n",
    "ax2.set_xlabel(\"Head Index\")\n",
    "ax2.set_ylabel(\"Layer Index\")\n",
    "\n",
    "plt.tight_layout()\n",
    "plt.show()"
   ]
  },
  {
   "cell_type": "markdown",
   "metadata": {},
   "source": [
    "# Run Pruning Cycles\n",
    "\n",
    "Now we'll run multiple pruning cycles. Each cycle consists of:\n",
    "1. Analyzing attention head importance\n",
    "2. Pruning the least important heads\n",
    "3. Fine-tuning the model to recover performance\n",
    "4. Evaluating the resulting model"
   ]
  },
  {
   "cell_type": "code",
   "execution_count": null,
   "metadata": {},
   "outputs": [],
   "source": [
    "# Run multiple pruning cycles\n",
    "for cycle in range(NUM_PRUNING_CYCLES):\n",
    "    print(f\"\\n=== Pruning Cycle {cycle+1}/{NUM_PRUNING_CYCLES} ===\")\n",
    "    \n",
    "    # Run a single pruning cycle\n",
    "    pruning_results = experiment.run_pruning_cycle(\n",
    "        training_steps=TRAINING_STEPS_PER_CYCLE\n",
    "    )\n",
    "    \n",
    "    # Print cycle metrics\n",
    "    print(f\"Cycle {cycle+1} results:\")\n",
    "    print(f\"  Pruned heads: {len(pruning_results['pruned_heads'])}\")\n",
    "    print(f\"  Loss before pruning: {pruning_results['baseline_metrics']['loss']:.4f}\")\n",
    "    print(f\"  Loss after pruning: {pruning_results['pruned_metrics']['loss']:.4f}\")\n",
    "    print(f\"  Loss after training: {pruning_results['final_metrics']['loss']:.4f}\")\n",
    "    print(f\"  Perplexity before: {pruning_results['baseline_metrics']['perplexity']:.2f}\")\n",
    "    print(f\"  Perplexity after: {pruning_results['final_metrics']['perplexity']:.2f}\")\n",
    "    \n",
    "    # Create a visualization dashboard after each cycle\n",
    "    if cycle > 0:\n",
    "        dashboard_path = os.path.join(OUTPUT_DIR, f\"dashboard_cycle{cycle+1}.png\")\n",
    "        dashboard_fig = experiment.visualize_metrics_dashboard(save_path=dashboard_path)\n",
    "        plt.figure(dashboard_fig.number)\n",
    "        plt.show()"
   ]
  },
  {
   "cell_type": "markdown",
   "metadata": {},
   "source": [
    "# Evaluate the Final Model\n",
    "\n",
    "Let's evaluate our final model after all pruning cycles."
   ]
  },
  {
   "cell_type": "code",
   "execution_count": null,
   "metadata": {},
   "outputs": [],
   "source": [
    "# Run final evaluation\n",
    "eval_metrics = experiment.evaluate()\n",
    "\n",
    "print(f\"=== Final Evaluation ===\")\n",
    "print(f\"Baseline Perplexity: {experiment.baseline_perplexity:.2f}\")\n",
    "print(f\"Final Perplexity: {experiment.final_perplexity:.2f}\")\n",
    "print(f\"Improvement: {eval_metrics['improvement_percent']:.2f}%\")\n",
    "print(f\"\\nPruned {len(experiment.pruned_heads)} of {num_layers * num_heads} heads\")\n",
    "print(f\"Model Sparsity: {len(experiment.pruned_heads) / (num_layers * num_heads) * 100:.1f}%\")\n",
    "\n",
    "# Create and show a final metrics dashboard\n",
    "dashboard_path = os.path.join(OUTPUT_DIR, \"final_metrics_dashboard.png\")\n",
    "dashboard_fig = experiment.visualize_metrics_dashboard(save_path=dashboard_path)\n",
    "plt.figure(dashboard_fig.number)\n",
    "plt.show()"
   ]
  },
  {
   "cell_type": "markdown",
   "metadata": {},
   "source": [
    "# Generate Text with the Pruned Model\n",
    "\n",
    "Let's generate some text with our pruned model to see the results."
   ]
  },
  {
   "cell_type": "code",
   "execution_count": null,
   "metadata": {},
   "outputs": [],
   "source": [
    "# Generate text with various prompts\n",
    "prompts = {\n",
    "    \"story\": \"Once upon a time\",\n",
    "    \"ai\": \"The future of artificial intelligence\",\n",
    "    \"space\": \"In a distant galaxy\",\n",
    "    \"science\": \"Scientists recently discovered\"\n",
    "}\n",
    "\n",
    "generated_texts = experiment.generate_examples(prompts=prompts, max_length=100)\n",
    "\n",
    "# Print the generated text for each prompt\n",
    "for prompt_name, text in generated_texts.items():\n",
    "    print(f\"\\n=== {prompt_name.upper()} ===\")\n",
    "    print(f\"Prompt: {prompts[prompt_name]}\")\n",
    "    print(f\"Generated:\\n{text}\")"
   ]
  },
  {
   "cell_type": "markdown",
   "metadata": {},
   "source": [
    "# Save the Pruned Model\n",
    "\n",
    "Let's save our pruned model for future use."
   ]
  },
  {
   "cell_type": "code",
   "execution_count": null,
   "metadata": {},
   "outputs": [],
   "source": [
    "# Save the pruned model\n",
    "save_paths = experiment.save_model()\n",
    "\n",
    "if save_paths:\n",
    "    print(f\"Model saved to {save_paths['model_dir']}\")\n",
    "    print(f\"\\nThe following files were saved:\")\n",
    "    for key, path in save_paths.items():\n",
    "        print(f\"  {key}: {path}\")"
   ]
  },
  {
   "cell_type": "markdown",
   "metadata": {},
   "source": [
    "# Simplified One-Shot Experiment\n",
    "\n",
    "The `NeuralPlasticityExperiment` class also provides a convenient `run_full_experiment()` method to run everything in one go. This is useful for quick experiments or when you don't need fine-grained control over each step."
   ]
  },
  {
   "cell_type": "code",
   "execution_count": null,
   "metadata": {},
   "outputs": [],
   "source": [
    "# Create a new experiment with a different output directory\n",
    "one_shot_output_dir = os.path.join(OUTPUT_DIR, \"one_shot\")\n",
    "one_shot_experiment = NeuralPlasticityExperiment(\n",
    "    model_name=MODEL_NAME,\n",
    "    dataset=DATASET,\n",
    "    dataset_config=DATASET_CONFIG,\n",
    "    output_dir=one_shot_output_dir,\n",
    "    batch_size=BATCH_SIZE,\n",
    "    max_length=MAX_LENGTH,\n",
    "    pruning_level=PRUNING_LEVEL,\n",
    "    pruning_strategy=PRUNING_STRATEGY,\n",
    "    learning_rate=LEARNING_RATE,\n",
    "    verbose=True,\n",
    "    save_results=True\n",
    ")\n",
    "\n",
    "# Run the full experiment\n",
    "print(\"\\n=== Running One-Shot Experiment ===\\n\")\n",
    "results = one_shot_experiment.run_full_experiment(\n",
    "    warmup_epochs=1,\n",
    "    pruning_cycles=2,  # Using fewer cycles for demo purposes\n",
    "    training_steps=50  # Fewer steps per cycle for brevity\n",
    ")\n",
    "\n",
    "# Print the results\n",
    "print(f\"\\n=== One-Shot Experiment Results ===\")\n",
    "print(f\"Baseline Perplexity: {results['baseline_metrics']['perplexity']:.2f}\")\n",
    "print(f\"Final Perplexity: {results['final_metrics']['perplexity']:.2f}\")\n",
    "print(f\"Improvement: {results['improvement_percent']:.2f}%\")\n",
    "print(f\"Pruned Heads: {len(results['pruned_heads'])}\")\n",
    "print(f\"Execution Time: {results['execution_time'] / 60:.1f} minutes\")\n",
    "\n",
    "# We can also easily generate text with the one-shot experiment model\n",
    "one_shot_texts = one_shot_experiment.generate_examples(\n",
    "    prompts={\"story\": \"Once upon a time\"},\n",
    "    max_length=50\n",
    ")\n",
    "\n",
    "print(f\"\\nGenerated text from one-shot experiment:\\n{one_shot_texts['story']}\")"
   ]
  },
  {
   "cell_type": "markdown",
   "metadata": {},
   "source": [
    "# Conclusion\n",
    "\n",
    "In this notebook, we demonstrated Sentinel AI's neural plasticity system, which enables transformer models to dynamically prune and revive attention heads during training based on their utility.\n",
    "\n",
    "Key findings:\n",
    "1. The plasticity system successfully pruned high-entropy, low-gradient heads\n",
    "2. Some heads were revived when they showed potential for useful learning\n",
    "3. The final model achieved comparable quality with fewer active heads\n",
    "4. The brain dynamics visualization shows how attention heads evolve over time\n",
    "\n",
    "## Benefits of the Modular Architecture\n",
    "\n",
    "The modular architecture in v0.0.63 provides several advantages:\n",
    "\n",
    "1. **Experiment Class API**: The `NeuralPlasticityExperiment` class provides a clean, high-level interface for running experiments\n",
    "2. **Cross-Platform Compatibility**: The same code works reliably across standard CPUs, GPUs, and Apple Silicon\n",
    "3. **Simplified Workflow**: The step-by-step methods make the process clear and easy to understand\n",
    "4. **One-Shot Execution**: The `run_full_experiment()` method enables quick experimentation with minimal code\n",
    "5. **Robust Tensor Handling**: Automatically detects the execution environment and applies appropriate optimizations\n",
    "6. **Improved Numerical Stability**: Enhanced entropy calculations prevent NaN/Inf values\n",
    "7. **Performance Optimizations**: Environment-specific optimizations for maximum efficiency\n",
    "\n",
    "This approach mimics biological neural plasticity, where brains form efficient neural pathways by pruning unused connections and strengthening useful ones."
   ]
  }
 ],
 "metadata": {
  "kernelspec": {
   "display_name": "Python 3",
   "language": "python",
   "name": "python3"
  },
  "language_info": {
   "codemirror_mode": {
    "name": "ipython",
    "version": 3
   },
   "file_extension": ".py",
   "mimetype": "text/x-python",
   "name": "python",
   "nbconvert_exporter": "python",
   "pygments_lexer": "ipython3",
   "version": "3.8.5"
  }
 },
 "nbformat": 4,
 "nbformat_minor": 4
}