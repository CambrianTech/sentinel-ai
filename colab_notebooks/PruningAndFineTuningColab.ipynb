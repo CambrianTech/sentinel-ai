{
 "cells": [
  {
   "cell_type": "markdown",
   "metadata": {},
   "source": [
    "# Make a GPT-2 Model Smaller and More Powerful (v0.0.46)\n",
    "\n",
    "This notebook demonstrates how to make a GPT-2 model both smaller and more powerful through pruning and fine-tuning."
   ]
  },
  {
   "cell_type": "code",
   "execution_count": null,
   "metadata": {},
   "outputs": [],
   "source": [
    "# Install required packages\n",
    "!pip install -q transformers==4.38.0 datasets==2.17.0 torch matplotlib tqdm\n",
    "\n",
    "# Import basic libraries\n",
    "import os\n",
    "import sys\n",
    "import torch\n",
    "\n",
    "# Set up device\n",
    "device = torch.device(\"cuda\" if torch.cuda.is_available() else \"cpu\")\n",
    "print(f\"Using device: {device}\")\n",
    "\n",
    "# Create output directory\n",
    "os.makedirs(\"pruning_results\", exist_ok=True)\n",
    "\n",
    "# Clone repository\n",
    "!git clone -b feature/implement-adaptive-plasticity https://github.com/CambrianTech/sentinel-ai.git ./sentinel_ai_repo\n",
    "\n",
    "# Add repo to path\n",
    "sys.path.append(\"./sentinel_ai_repo\")\n",
    "print(\"Repository added to path\")"
   ]
  },
  {
   "cell_type": "code",
   "execution_count": null,
   "metadata": {},
   "outputs": [],
   "source": [
    "# Import from repository modules\n",
    "try:\n",
    "    # Try to import from modules\n",
    "    from sentinel_ai_repo.utils.pruning.experiment_runner import run_experiment, ExperimentConfig\n",
    "    from sentinel_ai_repo.utils.pruning.text_generator import generate_text, interactive_generate\n",
    "    print(\"Successfully imported from utils.pruning modules\")\n",
    "except ImportError:\n",
    "    # Fallback to minimal implementation\n",
    "    from transformers import AutoModelForCausalLM, AutoTokenizer\n",
    "    \n",
    "    # Minimal experiment config\n",
    "    class ExperimentConfig:\n",
    "        def __init__(self, model_name=\"distilgpt2\", pruning_percent=0.3, num_epochs=3, \n",
    "                     batch_size=4, device=None, output_dir=\"pruning_results\"):\n",
    "            self.model_name = model_name\n",
    "            self.pruning_percent = pruning_percent\n",
    "            self.num_epochs = num_epochs\n",
    "            self.batch_size = batch_size\n",
    "            self.device = device or torch.device(\"cuda\" if torch.cuda.is_available() else \"cpu\")\n",
    "            self.output_dir = output_dir\n",
    "    \n",
    "    # Minimal experiment runner\n",
    "    def run_experiment(config):\n",
    "        model = AutoModelForCausalLM.from_pretrained(config.model_name).to(config.device)\n",
    "        tokenizer = AutoTokenizer.from_pretrained(config.model_name)\n",
    "        if tokenizer.pad_token is None:\n",
    "            tokenizer.pad_token = tokenizer.eos_token\n",
    "        \n",
    "        # Simple generate function\n",
    "        def generate_text(model, tokenizer, prompt, max_length=100):\n",
    "            input_ids = tokenizer.encode(prompt, return_tensors=\"pt\").to(model.device)\n",
    "            output = model.generate(input_ids, max_length=max_length, do_sample=True)\n",
    "            return tokenizer.decode(output[0], skip_special_tokens=True)\n",
    "        \n",
    "        # Interactive generate function\n",
    "        def interactive_generate(model, tokenizer, prompt=None, max_length=100):\n",
    "            if prompt is None:\n",
    "                prompt = input(\"Enter a prompt: \")\n",
    "            text = generate_text(model, tokenizer, prompt, max_length)\n",
    "            print(f\"Generated: {text}\")\n",
    "            return text\n",
    "        \n",
    "        # Add to globals\n",
    "        globals()[\"generate_text\"] = generate_text\n",
    "        globals()[\"interactive_generate\"] = interactive_generate\n",
    "        \n",
    "        # Empty summary\n",
    "        summary = {\n",
    "            \"baseline\": {\"perplexity\": 0},\n",
    "            \"pruned\": {\"perplexity\": 0},\n",
    "            \"finetuned\": {\"perplexity\": 0},\n",
    "            \"improvement\": {\"overall_percent\": 0},\n",
    "            \"pruned_heads\": 0\n",
    "        }\n",
    "        \n",
    "        return model, tokenizer, summary\n",
    "    \n",
    "    print(\"Using minimal implementation\")"
   ]
  },
  {
   "cell_type": "code",
   "execution_count": null,
   "metadata": {},
   "outputs": [],
   "source": [
    "# Configure experiment\n",
    "MODEL_NAME = \"distilgpt2\"\n",
    "PRUNING_PERCENT = 0.3\n",
    "NUM_EPOCHS = 3\n",
    "BATCH_SIZE = 4\n",
    "\n",
    "# Create config\n",
    "config = ExperimentConfig(\n",
    "    model_name=MODEL_NAME,\n",
    "    pruning_percent=PRUNING_PERCENT,\n",
    "    num_epochs=NUM_EPOCHS,\n",
    "    batch_size=BATCH_SIZE,\n",
    "    device=device\n",
    ")\n",
    "\n",
    "# Run experiment\n",
    "print(\"Running experiment...\")\n",
    "model, tokenizer, summary = run_experiment(config)\n",
    "print(\"Experiment completed\")"
   ]
  },
  {
   "cell_type": "code",
   "execution_count": null,
   "metadata": {},
   "outputs": [],
   "source": [
    "# Generate text\n",
    "prompt = \"Once upon a time\"\n",
    "interactive_generate(model, tokenizer, prompt)"
   ]
  }
 ],
 "metadata": {
  "kernelspec": {
   "display_name": "Python 3",
   "language": "python",
   "name": "python3"
  },
  "language_info": {
   "codemirror_mode": {
    "name": "ipython",
    "version": 3
   },
   "file_extension": ".py",
   "mimetype": "text/x-python",
   "name": "python",
   "nbconvert_exporter": "python",
   "pygments_lexer": "ipython3",
   "version": "3.8"
  }
 },
 "nbformat": 4,
 "nbformat_minor": 4
}