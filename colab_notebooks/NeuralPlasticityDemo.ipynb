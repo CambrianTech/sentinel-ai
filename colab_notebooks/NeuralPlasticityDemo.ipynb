{
 "cells": [
  {
   "cell_type": "markdown",
   "metadata": {},
   "source": "# Neural Plasticity Demo: Dynamic Pruning & Regrowth (v0.0.61 2025-04-20 17:30:00)\n\nThis notebook demonstrates Sentinel AI's neural plasticity system, which allows transformer models to dynamically prune and regrow attention heads during training based on utility metrics. [ID: 2a9d6687]\n\n### Changes in v0.0.61:\n- Implemented fully modular architecture via utils/neural_plasticity package\n- Enhanced Apple Silicon compatibility with improved tensor handling\n- Added cross-platform visualization with device-aware tensor conversion\n- Added workarounds for PyTorch/BLAS crashes on M1/M2/M3 chips\n- Improved environment detection for Colab/local execution\n- Added unified API via NeuralPlasticity class\n- Replaced custom entropy functions with modular functions for better maintainability\n\n## What is Neural Plasticity?\n\nNeural plasticity is the ability of neural networks to adapt their structure over time through pruning (removing unused connections) and regrowth (restoring useful connections). This mimics how biological brains form efficient neural pathways.\n\nIn this demo, we:\n1. Track the entropy and gradient patterns of each attention head\n2. Dynamically prune high-entropy, low-gradient heads (unfocused, less useful)\n3. Selectively revive low-entropy, higher-gradient heads (potentially useful)\n4. Visualize the \"brain dynamics\" over time\n\nThis allows models to form more efficient neural structures during training.\n\n## Environment Compatibility\n\nThis notebook automatically detects your execution environment and applies the appropriate optimizations:\n\n- **Colab:** Uses GPU acceleration when available for maximum performance\n- **Apple Silicon:** Applies safeguards against BLAS/libtorch crashes that commonly occur on M1/M2/M3 Macs\n- **Standard Hardware:** Operates normally with GPU acceleration when available\n\nNo manual configuration is required - just run the cells and the notebook will optimize for your environment.",
   "outputs": []
  },
  {
   "cell_type": "code",
   "execution_count": 1,
   "id": "e47f8d03",
   "metadata": {},
   "outputs": [],
   "source": [
    "# Check and install system dependencies if needed\n",
    "!apt-get update -qq > /dev/null\n",
    "!apt-get install -qq libopenblas-dev > /dev/null  # For better performance"
   ]
  },
  {
   "cell_type": "code",
   "execution_count": 2,
   "metadata": {},
   "outputs": [],
   "source": [
    "# Install required packages\n",
    "!pip install -q torch transformers datasets matplotlib seaborn\n",
    "\n",
    "# Clone the Sentinel AI repository\n",
    "!git clone -b feature/implement-adaptive-plasticity https://github.com/CambrianTech/sentinel-ai.git\n",
    "%cd sentinel-ai\n",
    "\n",
    "# Add repository to path\n",
    "import sys\n",
    "sys.path.append('.')"
   ]
  },
  {
   "cell_type": "markdown",
   "metadata": {},
   "source": [
    "# Configure the Experiment\n",
    "\n",
    "Let's set up our configuration for the neural plasticity experiment"
   ]
  },
  {
   "cell_type": "code",
   "execution_count": 3,
   "metadata": {},
   "outputs": [],
   "source": [
    "# Configure experiment\n",
    "MODEL_NAME = \"distilgpt2\"  # Small GPT-2 model for faster demonstration\n",
    "DATASET = \"wikitext\"\n",
    "DATASET_CONFIG = \"wikitext-2-raw-v1\"\n",
    "MAX_LENGTH = 128\n",
    "BATCH_SIZE = 4\n",
    "NUM_EPOCHS = 100      # Run for many epochs if needed\n",
    "LEARNING_RATE = 5e-5\n",
    "WARMUP_STEPS = 100\n",
    "WARMUP_MAX_EPOCHS = 1     # Maximum number of warmup epochs (will stop earlier if loss stabilizes)\n",
    "EVAL_INTERVAL = 50    # Evaluate every 50 steps\n",
    "VISUALIZATION_INTERVAL = 100  # Show visuals every 100 steps\n",
    "INFERENCE_INTERVAL = 500      # Run inference every 500 steps\n",
    "CHECKPOINT_INTERVAL = 500    # Save checkpoint more frequently (was 1000)\n",
    "MAX_STEPS_PER_EPOCH = None    # Set to a number to limit steps per epoch, or None for unlimited\n",
    "\n",
    "# Set to True to enable continuous training for long periods\n",
    "ENABLE_LONG_TRAINING = False  # Set to False for demo purposes to avoid memory/runtime issues\n",
    "\n",
    "# If ENABLE_LONG_TRAINING is True, run with unlimited steps per epoch\n",
    "# If ENABLE_LONG_TRAINING is False, override to a reasonable limit for demo purposes\n",
    "if not ENABLE_LONG_TRAINING:\n",
    "    MAX_STEPS_PER_EPOCH = 200 # Limit steps per epoch for demo purposes\n",
    "    NUM_EPOCHS = 3            # Limit epochs for demo purposes\n",
    "\n",
    "# Configure pruning mode\n",
    "from sentinel.pruning.dual_mode_pruning import PruningMode\n",
    "\n",
    "# Set pruning mode (ADAPTIVE allows recovery, COMPRESSED prevents recovery)\n",
    "PRUNING_MODE = PruningMode.ADAPTIVE  # Change to PruningMode.COMPRESSED for permanent pruning\n",
    "\n",
    "# Configure statistical-based pruning strategy\n",
    "# Instead of fixed thresholds, we'll use percentile-based thresholds\n",
    "ENTROPY_PERCENTILE = 70  # Heads with entropy above the 70th percentile are candidates for pruning\n",
    "GRADIENT_PERCENTILE = 30  # Heads with gradient below the 30th percentile are candidates for pruning\n",
    "PRUNE_PERCENT = 0.1      # Target to prune approximately 10% of heads in each step\n",
    "MIN_ZERO_EPOCHS = 1      # Minimum epochs a head should remain pruned"
   ]
  },
  {
   "cell_type": "markdown",
   "metadata": {},
   "source": [
    "# Load Model and Dataset\n",
    "\n",
    "Now we'll load the model and prepare the dataset for training"
   ]
  },
  {
   "cell_type": "code",
   "metadata": {},
   "outputs": [],
   "source": "%matplotlib inline\nimport torch\nimport numpy as np\nimport matplotlib.pyplot as plt\nimport seaborn as sns\nfrom transformers import (\n    AutoModelForCausalLM, \n    AutoTokenizer, \n    default_data_collator,\n    get_linear_schedule_with_warmup\n)\nfrom torch.utils.data import DataLoader\nfrom datasets import load_dataset\n\n# Import the unified neural plasticity API\nfrom utils.neural_plasticity import NeuralPlasticity, PruningStrategy, PruningMode\n\n# Import specific neural plasticity functions for detailed control\nfrom utils.neural_plasticity.visualization import (\n    visualize_head_entropy,\n    visualize_head_gradients,\n    visualize_pruning_decisions,\n    visualize_training_metrics,\n    visualize_attention_patterns\n)\n\nfrom utils.neural_plasticity.training import (\n    create_plasticity_trainer,\n    run_plasticity_loop,\n    train_with_plasticity\n)\n\n# Import visualization utilities\nfrom utils.colab.visualizations import TrainingMonitor\nfrom utils.colab.helpers import safe_tensor_imshow\n\n# Get environment information using the modular API\nenv_info = NeuralPlasticity.get_environment_info()\n\n# Set device based on environment\ndevice = env_info[\"device\"]\nprint(f\"Using device: {device}\")\n\n# Display environment information\nif env_info[\"is_apple_silicon\"]:\n    print(\"🍎 Apple Silicon detected - using optimized tensor operations\")\nif env_info[\"is_colab\"]:\n    print(\"🌐 Running in Google Colab environment\")\nif env_info[\"has_gpu\"] and not env_info[\"is_apple_silicon\"]:\n    print(f\"✅ GPU detected: {torch.cuda.get_device_name(0)}\")\n    print(f\"🚀 Total GPU Memory: {torch.cuda.get_device_properties(0).total_memory / 1024**3:.1f} GB\")\n\n# Load model and tokenizer\nprint(f\"Loading model: {MODEL_NAME}\")\nmodel = AutoModelForCausalLM.from_pretrained(MODEL_NAME).to(device)\ntokenizer = AutoTokenizer.from_pretrained(MODEL_NAME)\n\n# Set pad token if needed\nif tokenizer.pad_token is None:\n    tokenizer.pad_token = tokenizer.eos_token\n\n# Load datasets\nprint(f\"Loading dataset: {DATASET}/{DATASET_CONFIG}\")\ntrain_dataset = load_dataset(DATASET, DATASET_CONFIG, split=\"train\")\nvalidation_dataset = load_dataset(DATASET, DATASET_CONFIG, split=\"validation\")\n\n# Define tokenization function\ndef tokenize_function(examples):\n    return tokenizer(\n        examples[\"text\"], \n        padding=\"max_length\", \n        truncation=True, \n        max_length=MAX_LENGTH\n    )\n\n# Tokenize datasets\ntrain_dataset = train_dataset.map(tokenize_function, batched=True, remove_columns=[\"text\"])\nvalidation_dataset = validation_dataset.map(tokenize_function, batched=True, remove_columns=[\"text\"])\n\n# Add labels for language modeling\ndef add_labels(examples):\n    examples[\"labels\"] = examples[\"input_ids\"].copy()\n    return examples\n\ntrain_dataset = train_dataset.map(add_labels)\nvalidation_dataset = validation_dataset.map(add_labels)\n\n# Set format\ntrain_dataset = train_dataset.with_format(\"torch\")\nvalidation_dataset = validation_dataset.with_format(\"torch\")\n\n# Create dataloaders\ntrain_dataloader = DataLoader(\n    train_dataset, \n    batch_size=BATCH_SIZE, \n    shuffle=True, \n    collate_fn=default_data_collator\n)\n\nvalidation_dataloader = DataLoader(\n    validation_dataset, \n    batch_size=BATCH_SIZE, \n    collate_fn=default_data_collator\n)\n\nprint(f\"Train dataset size: {len(train_dataset)} examples\")\nprint(f\"Validation dataset size: {len(validation_dataset)} examples\")\n\n# Print unique ID to verify cache bypass\n# Define unique ID for cache busting\nunique_id = \"2a9d6687\"\nprint(f\"Running modularized neural plasticity code [ID: {unique_id}]\")"
  },
  {
   "cell_type": "markdown",
   "metadata": {},
   "source": [
    "# Define Evaluation Function\n",
    "\n",
    "Let's define a function to evaluate our model's performance"
   ]
  },
  {
   "cell_type": "code",
   "metadata": {},
   "outputs": [],
   "source": "def evaluate_model(model, dataloader):\n    \"\"\"Evaluate model using the NeuralPlasticity API.\"\"\"\n    # Use the evaluate_model function from the modular API\n    eval_results = NeuralPlasticity.evaluate_model_performance(\n        model=model,\n        dataloader=dataloader,\n        device=device\n    )\n    \n    return eval_results[\"loss\"], eval_results[\"perplexity\"]\n\ndef generate_text(prompt, max_length=100):\n    \"\"\"Generate text from the model.\"\"\"\n    # Set model to evaluation mode\n    model.eval()\n    \n    # Encode prompt\n    input_ids = tokenizer.encode(prompt, return_tensors=\"pt\").to(device)\n    \n    # Generate text\n    with torch.no_grad():\n        output = model.generate(\n            input_ids=input_ids,\n            max_length=max_length,\n            temperature=0.7,\n            do_sample=True,\n            top_k=50,\n            top_p=0.95,\n            pad_token_id=tokenizer.eos_token_id\n        )\n    \n    # Decode and return text\n    return tokenizer.decode(output[0], skip_special_tokens=True)"
  },
  {
   "cell_type": "markdown",
   "metadata": {},
   "source": [
    "## Run Model Warm-up\n",
    "\n",
    "Before measuring baseline performance and applying neural plasticity, we'll run a brief warm-up phase to get initial attention patterns and stabilize metrics."
   ]
  },
  {
   "cell_type": "code",
   "metadata": {},
   "outputs": [],
   "source": "# Initialize optimizer and scheduler for warm-up - we'll use this for better monitoring\n# but the actual training will happen through the API\nlearning_rate = LEARNING_RATE\nwarmup_steps = WARMUP_STEPS\nwarm_max_epochs = WARMUP_MAX_EPOCHS\n\nprint(f\"Running warm-up until loss stabilizes (max {warm_max_epochs} epochs)...\")\n\n# Use the modular API's warmup function for better Apple Silicon compatibility\nwarmup_results = NeuralPlasticity.run_warmup_training(\n    model=model,\n    train_dataloader=train_dataloader,\n    max_epochs=warm_max_epochs,\n    learning_rate=learning_rate,\n    warmup_steps=warmup_steps,\n    patience=15,  # Number of steps with no decrease to consider stabilized\n    min_warmup_steps=50,  # Minimum number of warm-up steps\n    max_warmup_steps=150,  # Maximum number of warm-up steps per epoch\n    device=device,\n    verbose=True\n)\n\n# Extract warmup metrics\nwarmup_losses = warmup_results[\"losses\"]\nwarmup_step_losses = warmup_results[\"smoothed_losses\"]\n\n# Show the visualization\nwarmup_visualization = warmup_results[\"visualization\"]\nif warmup_visualization:\n    plt.figure(warmup_visualization.number)\n    plt.show()\n\n# Segment analysis - compare first third vs last third of training\nif len(warmup_losses) > 6:\n    segment_analysis = warmup_results[\"segment_analysis\"]\n    \n    print(f\"\\nWarm-up Segment Analysis:\")\n    print(f\"First segment average loss: {segment_analysis['first_segment_avg']:.4f}\")\n    print(f\"Last segment average loss: {segment_analysis['last_segment_avg']:.4f}\")\n    print(f\"Improvement during warm-up: {segment_analysis['improvement']:.1f}%\")\n    print(f\"Is model still significantly improving? {'Yes' if segment_analysis['still_improving'] else 'No'}\")\n\n# Print warm-up summary\nprint(f\"\\nWarm-up completed with {len(warmup_losses)} steps across {len(warmup_results['epochs'])} epochs\")\nprint(f\"Initial loss: {warmup_results['initial_loss']:.4f}\")\nprint(f\"Final loss: {warmup_results['final_loss']:.4f}\")\nprint(f\"Overall loss reduction: {warmup_results['improvement_percent']:.1f}%\")"
  },
  {
   "cell_type": "markdown",
   "metadata": {},
   "source": [
    "\n",
    "# Evaluate Baseline Model\n",
    "\n",
    "Now let's measure the baseline performance after warm-up"
   ]
  },
  {
   "cell_type": "code",
   "execution_count": 7,
   "metadata": {},
   "outputs": [],
   "source": [
    "# Evaluate baseline model after warm-up\n",
    "baseline_loss, baseline_perplexity = evaluate_model(model, validation_dataloader)\n",
    "print(f\"Baseline evaluation after warm-up: Loss = {baseline_loss:.4f}, Perplexity = {baseline_perplexity:.2f}\")\n",
    "\n",
    "# Generate text with baseline model\n",
    "prompt = \"Once upon a time\"\n",
    "baseline_text = generate_text(prompt)\n",
    "print(f\"\\nPrompt: {prompt}\")\n",
    "print(f\"Generated text:\\n{baseline_text}\")"
   ]
  },
  {
   "cell_type": "markdown",
   "metadata": {},
   "source": [
    "## Create Neural Plasticity Controller\n",
    "\n",
    "Now we'll create our neural plasticity controller that will monitor attention heads and make pruning decisions."
   ]
  },
  {
   "cell_type": "code",
   "metadata": {},
   "outputs": [],
   "source": "# Custom function to apply pruning based purely on gradients\ndef gradient_based_pruning(grad_norm_values, prune_percent=0.1):\n    \"\"\"\n    Make pruning decisions based only on gradient norms using the modular API.\n    Targets heads with LOWEST gradient norms, as they're learning the least.\n    \n    Args:\n        grad_norm_values: Tensor of gradient norm values for all heads\n        prune_percent: Target percentage of heads to prune (0-1)\n        \n    Returns:\n        pruning_mask: Boolean tensor where True indicates a head should be pruned\n    \"\"\"\n    # Use the neural plasticity module's gradient pruning function\n    return NeuralPlasticity.create_gradient_pruning_mask(\n        grad_norm_values=grad_norm_values,\n        prune_percent=prune_percent\n    )"
  },
  {
   "cell_type": "markdown",
   "metadata": {},
   "source": [
    "## Important Note on Cell Execution Order\n",
    "\n",
    "⚠️ **Critical**: Cells in this notebook must be executed in order.\n",
    "\n",
    "The next cell creates the plasticity controller that's used throughout the notebook. Make sure to run:\n",
    "\n",
    "\n",
    "1.  The cell below that creates the controller\n",
    "\n",
    "\n",
    "2.  Then the debug cell after it\n",
    "\n",
    "\n",
    "3.  Then continue with the rest of the notebook in sequence\n",
    "\n",
    "If you get `NameError: name 'controller' is not defined`, go back and run the controller creation cell first."
   ]
  },
  {
   "cell_type": "code",
   "metadata": {},
   "outputs": [],
   "source": "# NOTE: This cell contains the improved neural plasticity controller logic\n# with better handling for Apple Silicon and cross-platform compatibility\n\n# Analyze attention patterns using the modular API\nprint(\"Analyzing attention patterns with NeuralPlasticity API...\")\nbatch = next(iter(validation_dataloader))\ninput_ids = batch[\"input_ids\"].to(device)\nattention_mask = batch[\"attention_mask\"].to(device)\n\n# Get attention patterns and entropy using the modular API\nattention_results = NeuralPlasticity.analyze_attention_patterns(\n    model=model,\n    input_ids=input_ids,\n    attention_mask=attention_mask\n)\n\n# Extract results\nattention_tensors = attention_results[\"attention_tensors\"]\nentropy_values = attention_results[\"entropy_values\"]\n\n# Detect model structure\nnum_layers, num_heads = NeuralPlasticity.detect_attention_heads(model)\nprint(f\"Model has {num_heads} attention heads across {num_layers} layers\")\n\n# Run comprehensive diagnostics on attention patterns\ndiagnostics = NeuralPlasticity.diagnose_attention_patterns(\n    model=model,\n    inputs={\"input_ids\": input_ids, \"attention_mask\": attention_mask},\n    device=device\n)\n\n# Print key diagnostic information\nprint(\"\\nDIAGNOSTIC: Attention and entropy statistics\")\nfor layer_idx, stats in enumerate(diagnostics[\"layer_stats\"]):\n    if layer_idx < 2:  # Show only first 2 layers for brevity\n        print(f\"Layer {layer_idx}: min={stats['min']:.2e}, max={stats['max']:.2e}, mean={stats['mean']:.2e}\")\n        print(f\"  Valid probability sum: {stats['valid_sum']}, Has NaN: {stats['has_nan']}, Has Inf: {stats['has_inf']}\")\n\n# Create controller with the diagnosed values\ncontroller = create_plasticity_controller(\n    model=model,\n    mode=PRUNING_MODE,\n    high_entropy_threshold=0.8,  # These will be adjusted by our percentile approach\n    low_entropy_threshold=0.4,   # but we need to provide initial values\n    grad_threshold=1e-3,\n    min_zero_epochs=MIN_ZERO_EPOCHS\n)\n\n# Display initial model stats\ninitial_stats = controller.get_summary()\nprint(f\"Model has {initial_stats['total_heads']} attention heads across {controller.total_layers} layers\")\n\n# Create custom function to apply gradient-based pruning using the modular API\ndef generate_pruning_mask(\n    grad_norm_values, \n    prune_percent=0.1, \n    strategy=\"gradient\",\n    entropy_values=None\n):\n    \"\"\"\n    Generate a pruning mask based on the specified strategy.\n    Uses the modular API to create the pruning mask.\n    \"\"\"\n    if strategy == \"gradient\":\n        return NeuralPlasticity.create_gradient_pruning_mask(\n            grad_norm_values=grad_norm_values, \n            prune_percent=prune_percent\n        )\n    else:\n        # For combined strategy or other approaches\n        return NeuralPlasticity.generate_pruning_mask(\n            grad_values=grad_norm_values,\n            entropy_values=entropy_values,\n            prune_percent=prune_percent,\n            strategy=strategy\n        )"
  },
  {
   "cell_type": "code",
   "metadata": {},
   "outputs": [],
   "source": "# Debug: Let's check the actual entropy values we're dealing with\nprint(\"\\nCollecting initial entropy and gradient metrics for debugging...\")\n\n# Check if we have all the necessary variables\ntry:\n    # Use the NeuralPlasticity API to calculate head importance\n    importance_metrics = NeuralPlasticity.calculate_head_importance(\n        model=model,\n        dataloader=validation_dataloader,\n        num_batches=2,\n        mode=\"combined\"  # Use both entropy and gradient information\n    )\n    \n    # Extract metrics\n    debug_entropy = importance_metrics[\"entropy\"]\n    debug_grads = importance_metrics[\"gradients\"]\n    \n    # Print entropy statistics\n    print(\"\\nEntropy statistics:\")\n    print(f\"Mean entropy: {debug_entropy.mean().item():.4f}\")\n    print(f\"Min entropy: {debug_entropy.min().item():.4f}\")\n    print(f\"Max entropy: {debug_entropy.max().item():.4f}\")\n    print(f\"25th percentile: {torch.quantile(debug_entropy.flatten(), 0.25).item():.4f}\")\n    print(f\"50th percentile: {torch.quantile(debug_entropy.flatten(), 0.5).item():.4f}\")\n    print(f\"75th percentile: {torch.quantile(debug_entropy.flatten(), 0.75).item():.4f}\")\n    print(f\"Are all entropy values the same? {torch.allclose(debug_entropy, debug_entropy[0,0])}\")\n    print(f\"Non-zero values: {torch.count_nonzero(debug_entropy)}/{debug_entropy.numel()}\")\n    \n    # Add diagnostic to debug attention probability tensor\n    print(\"\\nDIAGNOSTIC: Checking raw attention probability distributions...\")\n    \n    # Use diagnostics from previous cell - we don't need to recalculate\n    diagnostics = NeuralPlasticity.diagnose_attention_patterns(\n        model=model,\n        inputs=batch,\n        device=device\n    )\n    \n    # Extract attention tensor for visualization\n    layer_idx = 0  # Check first layer\n    head_idx = 0   # Check first head\n    \n    # Use visualization functions from neural plasticity module\n    from utils.neural_plasticity.visualization import visualize_attention_patterns\n    \n    # Create visualization for one attention head\n    plt.figure(figsize=(8, 6))\n    visualize_attention_patterns(\n        attention_maps=diagnostics[\"attention_tensors\"][layer_idx],\n        layer_idx=layer_idx,\n        head_idx=head_idx,\n        title=f'Attention Pattern (Layer {layer_idx}, Head {head_idx})'\n    )\n    plt.show()\n    \n    # Add histogram of attention values for one head\n    plt.figure(figsize=(8, 4))\n    attn_values = diagnostics[\"attention_tensors\"][layer_idx][0, head_idx].flatten().cpu().numpy()\n    plt.hist(attn_values, bins=50, alpha=0.7)\n    plt.title('Histogram of Attention Probabilities')\n    plt.xlabel('Probability Value')\n    plt.ylabel('Frequency')\n    plt.grid(alpha=0.3)\n    plt.show()\n    \n    # Print gradient statistics\n    print(\"\\nGradient statistics:\")\n    print(f\"Mean gradient norm: {debug_grads.mean().item():.4f}\")\n    print(f\"Min gradient norm: {debug_grads.min().item():.4f}\")\n    print(f\"Max gradient norm: {debug_grads.max().item():.4f}\")\n    print(f\"25th percentile: {torch.quantile(debug_grads.flatten(), 0.25).item():.4f}\")\n    print(f\"50th percentile: {torch.quantile(debug_grads.flatten(), 0.5).item():.4f}\")\n    print(f\"75th percentile: {torch.quantile(debug_grads.flatten(), 0.75).item():.4f}\")\nexcept Exception as e:\n    print(f\"Error collecting metrics: {e}\")"
  },
  {
   "cell_type": "code",
   "metadata": {},
   "outputs": [],
   "source": "# Enhanced Entropy Analysis\n# Run this after collecting the metrics to better understand the entropy issues\n\n# Use the modular API's entropy calculation function with detailed diagnostics\ntry:\n    # Get a batch of data\n    inputs = next(iter(validation_dataloader))\n    if isinstance(inputs, dict):\n        inputs = {k: v.to(device) for k, v in inputs.items() if isinstance(v, torch.Tensor)}\n    else:\n        inputs = {\"input_ids\": inputs[0].to(device)}\n    \n    # Run model with attention outputs\n    model.eval()\n    with torch.no_grad():\n        outputs = model(**inputs, output_attentions=True)\n    \n    # Extract attention patterns\n    if hasattr(outputs, 'attentions') and outputs.attentions is not None:\n        attn_list = outputs.attentions\n        if len(attn_list) > 0:\n            # Create a detailed visualization of attention patterns and entropy\n            num_layers = len(attn_list)\n            fig, axes = plt.subplots(num_layers, 2, figsize=(12, num_layers*3))\n            \n            layer_entropies = []\n            layer_entropies_norm = []\n            \n            for layer_idx in range(num_layers):\n                attn = attn_list[layer_idx]\n                \n                # Compute entropy for this layer's attention using the modular API\n                print(f\"\\n=== Analyzing Layer {layer_idx} Attention ====\")\n                # Use the modular API's entropy function\n                layer_entropy = NeuralPlasticity.compute_entropy_with_diagnostics(attn, debug=True)\n                \n                # Save mean entropy per head\n                head_entropies = layer_entropy.mean(dim=(0, 1))  # Average over batch and sequence\n                layer_entropies.append(head_entropies)\n                \n                # Normalize by max possible entropy\n                seq_len = attn.size(-1)\n                max_entropy = torch.log(torch.tensor(seq_len, dtype=torch.float, device=attn.device))\n                norm_entropies = head_entropies / max_entropy.item()\n                layer_entropies_norm.append(norm_entropies)\n                \n                # Plot attention pattern for first head\n                if isinstance(axes, np.ndarray) and len(axes.shape) > 1:  # multiple rows and cols\n                    ax1 = axes[layer_idx, 0]\n                    ax2 = axes[layer_idx, 1]\n                else:  # only 1 layer, so axes is 1D\n                    ax1 = axes[0]\n                    ax2 = axes[1]\n                \n                # Plot attention pattern\n                attn_pattern = attn[0, 0].cpu().numpy()  # First batch, first head\n                im = ax1.imshow(attn_pattern, cmap='viridis')\n                ax1.set_title(f'Layer {layer_idx} - Head 0 Attention')\n                ax1.set_xlabel('Position (To)')\n                ax1.set_ylabel('Position (From)')\n                plt.colorbar(im, ax=ax1)\n                # Set proper limits for attention values (0 to 1)\n                im.set_clim(0, 1.0)\n                \n                # Plot entropy values for all heads\n                ax2.bar(range(len(head_entropies)), head_entropies.cpu().numpy())\n                ax2.axhline(y=max_entropy.item(), color='r', linestyle='--', alpha=0.7, label='Max Entropy')\n                ax2.set_title(f'Layer {layer_idx} - Head Entropies')\n                ax2.set_xlabel('Head Index')\n                ax2.set_ylabel('Entropy')\n                ax2.legend()\n                \n                # Add entropy values as text on the bars\n                for i, v in enumerate(head_entropies):\n                    ax2.text(i, v.item() + 0.1, f'{v.item():.2f}', ha='center')\n            \n            plt.tight_layout()\n            plt.show()\n            \n            # Create a heatmap of entropy across all layers and heads\n            if num_layers > 1:\n                all_entropies = torch.stack(layer_entropies).cpu().numpy()\n                plt.figure(figsize=(10, 6))\n                plt.imshow(all_entropies)\n                plt.clim(0, max(0.1, all_entropies.max()))  # Ensure non-zero range\n                plt.colorbar(label='Entropy')\n                plt.title('Entropy Heatmap Across All Layers and Heads')\n                plt.xlabel('Head Index')\n                plt.ylabel('Layer Index')\n                \n                # Add text annotations for each cell\n                for i in range(all_entropies.shape[0]):\n                    for j in range(all_entropies.shape[1]):\n                        text = plt.text(j, i, f'{all_entropies[i, j]:.2f}',\n                                      ha=\"center\", va=\"center\", color=\"w\")\n                \n                plt.tight_layout()\n                plt.show()\n                \n                # Plot normalized entropy (as percentage of maximum)\n                all_norm_entropies = torch.stack(layer_entropies_norm).cpu().numpy() * 100  # as percentage\n                plt.figure(figsize=(10, 6))\n                plt.imshow(all_norm_entropies, cmap='viridis', aspect='auto', vmin=0, vmax=100)\n                plt.colorbar(label='% of Max Entropy')\n                plt.title('Normalized Entropy (% of Maximum)')\n                plt.xlabel('Head Index')\n                plt.ylabel('Layer Index')\n                \n                # Add text annotations for each cell\n                for i in range(all_norm_entropies.shape[0]):\n                    for j in range(all_norm_entropies.shape[1]):\n                        text = plt.text(j, i, f'{all_norm_entropies[i, j]:.1f}%',\n                                      ha=\"center\", va=\"center\", color=\"w\")\n                \n                plt.tight_layout()\n                plt.show()\n        else:\n            print(\"No attention tensors returned by the model\")\n    else:\n        print(\"Model outputs don't include attention weights\")\nexcept Exception as e:\n    print(f\"Error in entropy analysis: {e}\")"
  },
  {
   "cell_type": "code",
   "metadata": {},
   "outputs": [],
   "source": "# Test our improved pruning approach using the NeuralPlasticity API\n\n# Make sure we have the gradient values\ntry:\n    # Check if grad_norm_values is defined from the previous cell\n    grad_norm_values\n    print(\"Using existing gradient values\")\nexcept NameError:\n    print(\"Gradient values not found, collecting metrics using NeuralPlasticity API...\")\n    # Use the modular API to calculate head importance\n    importance_metrics = NeuralPlasticity.calculate_head_importance(\n        model=model,\n        dataloader=validation_dataloader,\n        num_batches=2,\n        mode=\"gradient\"  # Just use gradient-based importance\n    )\n    grad_norm_values = importance_metrics['gradients']\n\n# Generate pruning mask using the modular API\npruning_mask = NeuralPlasticity.create_gradient_pruning_mask(\n    grad_norm_values=grad_norm_values,\n    prune_percent=PRUNE_PERCENT\n)\n\n# Visualize pruning mask\nplt.figure(figsize=(10, 6))\nplt.imshow(pruning_mask.cpu().numpy(), cmap='Reds', aspect='auto')\nplt.colorbar(label='Prune')\nplt.title(f'Pruning Mask (prune {PRUNE_PERCENT*100:.0f}% of heads)')\nplt.xlabel('Head')\nplt.ylabel('Layer')\nplt.show()\n\nprint(f\"\\nPruning Analysis:\")\npruned_count = pruning_mask.sum().item()\ntotal_count = pruning_mask.numel()\nprint(f\"Pruning {pruned_count}/{total_count} heads ({pruned_count/total_count*100:.1f}%)\")\n\n# Visualize head metrics using the NeuralPlasticity visualization API\nvisualization_figures = NeuralPlasticity.visualize_head_metrics(\n    entropy_values=entropy_values if 'entropy_values' in globals() else None,\n    grad_norm_values=grad_norm_values,\n    pruned_heads=[(i, j) for i in range(pruning_mask.shape[0]) \n                  for j in range(pruning_mask.shape[1]) if pruning_mask[i, j]]\n)"
  },
  {
   "cell_type": "code",
   "metadata": {},
   "outputs": [],
   "source": "# Create a visual comparing entropy and gradient distributions\nplt.figure(figsize=(10, 6))\n\n# Use the modular API's proper entropy calculation\n# Import the compute_improved_entropy function from the neural plasticity module\nfrom utils.neural_plasticity import compute_improved_entropy\n\n# Get attention outputs to calculate entropy directly\ntry:\n    # Get sample data\n    inputs = next(iter(validation_dataloader))\n    if isinstance(inputs, dict):\n        inputs = {k: v.to(device) for k, v in inputs.items() if isinstance(v, torch.Tensor)}\n    else:\n        inputs = {\"input_ids\": inputs[0].to(device)}\n    \n    # Forward pass with attention outputs\n    model.eval()\n    with torch.no_grad():\n        outputs = model(**inputs, output_attentions=True)\n    \n    # Calculate entropy from raw attention\n    if hasattr(outputs, 'attentions') and outputs.attentions is not None:\n        # Extract attention tensors\n        attentions = outputs.attentions\n        \n        # Print diagnostic info\n        print(f\"Number of attention layers: {len(attentions)}\")\n        first_attn = attentions[0]\n        print(f\"Attention shape: {first_attn.shape}\")\n        print(f\"Attention statistics - min: {first_attn.min().item():.6f}, max: {first_attn.max().item():.6f}\")\n        \n        # Check if attention sums to 1 along correct dimension\n        attn_sum = first_attn.sum(dim=-1)\n        print(f\"Attention sum along last dim - min: {attn_sum.min().item():.6f}, max: {attn_sum.max().item():.6f}\")\n        \n        # Calculate proper entropy for all layers using the modular API\n        all_entropies = torch.cat([\n            compute_improved_entropy(attn, debug=False).mean(dim=(0, 1)).view(-1, attentions[0].shape[1])\n            for attn in attentions\n        ])\n        \n        # Print entropy statistics\n        print(f\"Calculated entropy shape: {all_entropies.shape}\")\n        print(f\"Entropy statistics - min: {all_entropies.min().item():.6f}, max: {all_entropies.max().item():.6f}\")\n        \n        # Side by side plots\n        plt.subplot(1, 2, 1)\n        im1 = plt.imshow(all_entropies.detach().cpu().numpy())\n        plt.clim(0, max(0.1, all_entropies.max().item()))  # Ensure proper visualization range\n        plt.colorbar(im1, label='Entropy')\n        plt.title(f'Properly Calculated Attention Entropy (max={all_entropies.max().item():.4f})')\n        plt.xlabel('Head Index')\n        plt.ylabel('Layer Index')\n        \n        # Use the gradient tensor from debug metrics\n        plt.subplot(1, 2, 2)\n        im2 = plt.imshow(debug_grads.detach().cpu().numpy())\n        plt.colorbar(im2, label='Gradient Norm')\n        plt.title('Gradient Norms')\n        plt.xlabel('Head Index')\n        plt.ylabel('Layer Index')\n        \n        plt.tight_layout()\n        plt.show()\n        \n        # Create a scatter plot to show relationship\n        plt.figure(figsize=(8, 6))\n        entropy_flat = all_entropies.flatten().cpu().numpy()\n        grad_flat = debug_grads.flatten().cpu().numpy()\n        \n        plt.scatter(entropy_flat, grad_flat, alpha=0.7)\n        plt.xlabel('Entropy (higher = less focused)')\n        plt.ylabel('Gradient Norm (higher = more impact)')\n        plt.title('Entropy vs Gradient Relationship')\n        plt.grid(alpha=0.3)\n        plt.show()\n        \n    else:\n        print(\"Model did not return attention tensors\")\nexcept Exception as e:\n    print(f\"Error in entropy calculation: {e}\")\n    \n    # Fallback - use debug_entropy that was already collected\n    # Plot entropy with a manual scale for force visibility\n    plt.subplot(1, 2, 1)\n    \n    # Enforce a minimum scale for visibility\n    entropy_data = debug_entropy.detach().cpu().numpy()\n    im1 = safe_tensor_imshow(entropy_data, title='Visualization of entropy_data')\n    plt.clim(0, max(0.1, entropy_data.max()))  # Ensure proper entropy range\n    plt.colorbar(im1, label='Entropy')\n    plt.title(f'Attention Entropy Values (max={entropy_data.max():.4f})')\n    plt.xlabel('Head Index')\n    plt.ylabel('Layer Index')\n\n    # Gradient subplot\n    plt.subplot(1, 2, 2)\n    im2 = plt.imshow(debug_grads.detach().cpu().numpy())\n    plt.colorbar(im2, label='Gradient Norm')\n    plt.title('Gradient Norms')\n    plt.xlabel('Head Index')\n    plt.ylabel('Layer Index')\n    \n    plt.tight_layout()\n    plt.show()"
  },
  {
   "cell_type": "markdown",
   "metadata": {},
   "source": [
    "## Collect Initial Head Metrics\n",
    "\n",
    "Let's look at the initial head metrics to establish our baseline."
   ]
  },
  {
   "cell_type": "code",
   "execution_count": 14,
   "metadata": {},
   "outputs": [],
   "source": [
    "# NOTE: This cell requires the controller to be defined\n",
    "# Collect initial head metrics\n",
    "# Check if controller exists\n",
    "try:\n",
    "    controller\n",
    "except NameError:\n",
    "    print(\"ERROR: The controller variable is not defined. Please run the cell that creates the plasticity controller first.\")\n",
    "    # Create a simple dummy controller to avoid breaking the notebook flow\n",
    "    controller = SimpleNamespace()\n",
    "    controller.collect_head_metrics = lambda *args, **kwargs: (None, None)\n",
    "    controller.display_stats = lambda *args, **kwargs: None\n",
    "    controller.stats = {}\n",
    "    controller.total_layers = 0\n",
    "    controller.heads_per_layer = 0\n",
    "\n",
    "\n",
    "entropy_values, grad_norm_values = controller.collect_head_metrics(\n",
    "    validation_dataloader, \n",
    "    num_batches=2\n",
    ")\n",
    "\n",
    "# Function to visualize gradients without relying on Unicode\n",
    "def visualize_gradient_norms(grad_norm_values, pruned_heads=None, revived_heads=None, title=\"Gradient Norms\", save_path=None):\n",
    "    \"\"\"Create a visualization of gradient norms with markers for pruned/revived heads\"\"\"\n",
    "    plt.figure(figsize=(10, 5))\n",
    "    plt.imshow(grad_norm_values.detach().cpu().numpy(), cmap=\"plasma\", aspect=\"auto\")\n",
    "    plt.colorbar(label=\"Gradient Norm\")\n",
    "    \n",
    "    # Mark pruned heads with 'P'\n",
    "    if pruned_heads:\n",
    "        for layer, head in pruned_heads:\n",
    "            plt.text(head, layer, \"P\", ha=\"center\", va=\"center\", \n",
    "                     color=\"white\", weight=\"bold\", bbox=dict(facecolor='red', alpha=0.5))\n",
    "    \n",
    "    # Mark revived heads with 'R'\n",
    "    if revived_heads:\n",
    "        for layer, head in revived_heads:\n",
    "            plt.text(head, layer, \"R\", ha=\"center\", va=\"center\", \n",
    "                     color=\"white\", weight=\"bold\", bbox=dict(facecolor='green', alpha=0.5))\n",
    "    \n",
    "    plt.title(title)\n",
    "    plt.xlabel(\"Head Index\")\n",
    "    plt.ylabel(\"Layer Index\")\n",
    "    # Consider using constrained_layout=True instead of tight_layout()\n",
    "    plt.tight_layout()\n",
    "    \n",
    "    if save_path:\n",
    "        plt.savefig(save_path, dpi=100, bbox_inches='tight')\n",
    "    \n",
    "    return plt.gcf()\n",
    "\n",
    "# Create a better pruning mask for visualization\n",
    "# Get the indices of the heads with the LOWEST gradient norms\n",
    "flat_grad_norm = grad_norm_values.view(-1)\n",
    "total_heads = grad_norm_values.numel()\n",
    "target_prune_count = int(total_heads * PRUNE_PERCENT)\n",
    "_, indices = torch.topk(flat_grad_norm, k=target_prune_count, largest=False)\n",
    "pruning_mask = torch.zeros_like(grad_norm_values, dtype=torch.bool)\n",
    "pruning_mask.view(-1)[indices] = True\n",
    "\n",
    "# Create a comprehensive visualization showing gradient norms with markers for pruning decisions\n",
    "plt.figure(figsize=(10, 5))\n",
    "plt.title(\"Initial Head Gradient Norms - Pruning Candidates\")\n",
    "plt.imshow(grad_norm_values.detach().cpu().numpy(), cmap=\"plasma\", aspect=\"auto\")\n",
    "plt.colorbar(label=\"Gradient Norm\")\n",
    "\n",
    "# Add text markers for the heads with LOWEST gradient norms (candidates for pruning)\n",
    "for layer in range(controller.total_layers):\n",
    "    for head in range(controller.heads_per_layer):\n",
    "        if pruning_mask[layer, head]:  # True means prune this head (lowest gradients)\n",
    "            plt.text(head, layer, \"P\", ha=\"center\", va=\"center\", \n",
    "                     color=\"white\", weight=\"bold\", bbox=dict(facecolor='red', alpha=0.5))\n",
    "\n",
    "plt.xlabel(\"Head Index\")\n",
    "plt.ylabel(\"Layer Index\")\n",
    "# Consider using constrained_layout=True instead of tight_layout()\n",
    "plt.tight_layout()\n",
    "plt.show()\n",
    "\n",
    "# Now add the new visualization that combines gradient norms with pruning status\n",
    "print(\"\\nInitial Head Gradient Norms with Pruning Candidates:\")\n",
    "\n",
    "# Create a list of (layer, head) tuples for heads marked for pruning\n",
    "pruning_candidates = [(layer, head) for layer in range(controller.total_layers) \n",
    "                      for head in range(controller.heads_per_layer) \n",
    "                      if pruning_mask[layer, head]]  # True means prune (low gradient)\n",
    "\n",
    "visualize_gradient_norms(\n",
    "    grad_norm_values=grad_norm_values,\n",
    "    pruned_heads=pruning_candidates,  # Mark candidates as if they were pruned\n",
    "    title=\"Initial Head Gradient Norms with Pruning Candidates\"\n",
    ")\n",
    "plt.show()\n",
    "\n",
    "# Also plot standard visualizations for comparison\n",
    "# Plot entropy heatmap\n",
    "plt.figure(figsize=(10, 6))\n",
    "plt.title(\"Initial Head Entropy (higher = less focused attention)\")\n",
    "entropy_map = safe_tensor_imshow(entropy_values, title='Visualization of entropy_values').cpu().numpy(), cmap=\"viridis\", aspect=\"auto\")\n",
    "# Ensure entropy visualization has some range\n",
    "plt.clim(0, max(0.1, entropy_values.max().item()))\n",
    "plt.colorbar(entropy_map, label=\"Entropy\")\n",
    "plt.xlabel(\"Head Index\")\n",
    "plt.ylabel(\"Layer Index\")\n",
    "# Consider using constrained_layout=True instead of tight_layout()\n",
    "plt.tight_layout()\n",
    "plt.show()\n",
    "\n",
    "# Create a visualization highlighting the relationship between gradient norms and pruning decisions\n",
    "plt.figure(figsize=(12, 8))\n",
    "grad_data = grad_norm_values.detach().cpu().numpy()\n",
    "mask_data = pruning_mask.detach().cpu().numpy()\n",
    "\n",
    "# Create a masked array where pruned heads are highlighted\n",
    "masked_grads = np.ma.array(grad_data, mask=~mask_data)\n",
    "\n",
    "# Base plot with all gradient values\n",
    "safe_tensor_imshow(grad_data, title='Visualization of grad_data').cpu().numpy()).cpu().numpy())\n",
    "# Overlay plot with pruned heads highlighted\n",
    "plt.imshow(masked_grads, cmap='Reds', aspect='auto'.detach().cpu().numpy())\n",
    "plt.colorbar(label='Gradient Norm')\n",
    "plt.title('Gradient Norms with Low-Gradient Heads Highlighted for Pruning')\n",
    "plt.xlabel('Head Index')\n",
    "plt.ylabel('Layer Index')\n",
    "# Consider using constrained_layout=True instead of tight_layout()\n",
    "plt.tight_layout()\n",
    "plt.show()# Function removed - using imported version\n"
   ]
  },
  {
   "cell_type": "markdown",
   "metadata": {},
   "source": [
    "## Training with Neural Plasticity\n",
    "\n",
    "Now let's train the model with neural plasticity enabled, allowing it to adaptively prune and restore attention heads."
   ]
  },
  {
   "cell_type": "code",
   "execution_count": 15,
   "metadata": {},
   "outputs": [],
   "source": [
    "# Initialize training components\n",
    "optimizer = torch.optim.AdamW(model.parameters(), lr=LEARNING_RATE)\n",
    "total_steps = len(train_dataloader) * NUM_EPOCHS\n",
    "scheduler = get_linear_schedule_with_warmup(\n",
    "    optimizer, \n",
    "    num_warmup_steps=WARMUP_STEPS, \n",
    "    num_training_steps=total_steps\n",
    ")\n",
    "\n",
    "# Print epoch information\n",
    "print(f\"Dataset size: {len(train_dataset)} examples\")\n",
    "print(f\"Batch size: {BATCH_SIZE}\")\n",
    "print(f\"Steps per epoch: {len(train_dataloader)}\")\n",
    "print(f\"Total epochs: {NUM_EPOCHS}\")\n",
    "print(f\"Maximum steps per epoch: {MAX_STEPS_PER_EPOCH if MAX_STEPS_PER_EPOCH else 'Unlimited'}\")\n",
    "print(f\"Expected total steps: {NUM_EPOCHS * (MAX_STEPS_PER_EPOCH or len(train_dataloader))}\")\n",
    "print(f\"Eval interval: {EVAL_INTERVAL} steps\")\n",
    "print(f\"Visualization interval: {VISUALIZATION_INTERVAL} steps\")\n",
    "print(f\"Inference interval: {INFERENCE_INTERVAL} steps\")\n",
    "\n"
   ]
  },
  {
   "cell_type": "code",
   "execution_count": 16,
   "metadata": {},
   "outputs": [],
   "source": [
    "# Initialize metrics tracking\n",
    "metrics_history = {\n",
    "    \"train_loss\": [],\n",
    "    \"eval_loss\": [],\n",
    "    \"pruned_heads\": [],\n",
    "    \"revived_heads\": [],\n",
    "    \"sparsity\": [],\n",
    "    \"step\": [],\n",
    "    \"epoch\": [],  # Track epoch number for each step\n",
    "    \"perplexity\": [],  # Track perplexity\n",
    "    \"inference_samples\": []  # Store sample generations\n",
    "}\n",
    "\n",
    "# Import visualization utilities from utils.colab\n",
    "from utils.colab.visualizations import TrainingMonitor, visualize_gradient_norms\n",
    "\n",
    "# Create pruning monitor widget\n",
    "pruning_monitor = TrainingMonitor(\n",
    "    title=\"Neural Plasticity Training Progress\",\n",
    "    metrics_to_track=[\"step\", \"epoch\", \"train_loss\", \"eval_loss\", \n",
    "                     \"pruned_heads\", \"revived_heads\", \"sparsity\", \"perplexity\"]\n",
    ")\n",
    "\n",
    "\n",
    "# Create pruning monitor widget\n",
    "pruning_monitor = TrainingMonitor(\n",
    "    title=\"Neural Plasticity Training Progress\",\n",
    "    metrics_to_track=[\"step\", \"epoch\", \"train_loss\", \"eval_loss\", \n",
    "                     \"pruned_heads\", \"revived_heads\", \"sparsity\", \"perplexity\"]\n",
    ")\n",
    "\n",
    "# Import visualization utilities from utils.colab\n",
    "\n",
    "# Create output directory for visualizations and checkpoints\n",
    "import os\n",
    "output_dir = \"pruning_visualizations\"\n",
    "checkpoint_dir = os.path.join(output_dir, \"checkpoints\")\n",
    "os.makedirs(output_dir, exist_ok=True)\n",
    "os.makedirs(checkpoint_dir, exist_ok=True)\n",
    "\n",
    "# Inference prompts for consistent tracking\n",
    "inference_prompts = [\n",
    "    \"Once upon a time\",\n",
    "    \"The future of artificial intelligence\",\n",
    "    \"In a distant galaxy\",\n",
    "    \"Scientists recently discovered\"\n",
    "]\n",
    "\n"
   ]
  },
  {
   "cell_type": "code",
   "metadata": {},
   "outputs": [],
   "source": "# NOTE: This cell requires the controller to be defined\n# Custom function to apply pruning based purely on gradients - CORRECTED VERSION using the modular API\n\ndef apply_gradient_pruning(grad_norm_values):\n    \"\"\"\n    Apply gradient-based pruning targeting heads with lowest gradient norms.\n    Uses the modular API for better cross-platform compatibility.\n    \n    Args:\n        grad_norm_values: Tensor of gradient norm values for all heads\n        \n    Returns:\n        List of (layer, head) tuples of pruned heads\n    \"\"\"\n    # Generate pruning mask using the modular API\n    pruning_mask = NeuralPlasticity.create_gradient_pruning_mask(\n        grad_norm_values=grad_norm_values,\n        prune_percent=PRUNE_PERCENT\n    )\n    \n    # Get total layers and heads from controller\n    num_layers = controller.total_layers\n    num_heads = controller.heads_per_layer\n    \n    # Convert to list of (layer, head) tuples for pruning\n    pruned_heads = []\n    for layer in range(num_layers):\n        for head in range(num_heads):\n            if pruning_mask[layer, head]:  # True means prune this head\n                # Check if head is already pruned\n                if not controller.stats[layer][head]['is_zeroed']:\n                    pruned_heads.append((layer, head))\n    \n    # Apply pruning using the controller's methods\n    for layer, head in pruned_heads:\n        result = prune_head_in_model(\n            controller.model, \n            layer, \n            head, \n            mode=controller.mode, \n            verbose=False  # Reduce verbosity\n        )\n        if result:\n            # Update controller stats\n            controller.stats[layer][head]['is_zeroed'] = True\n            controller.stats[layer][head]['zeroed_epochs'] = 1\n    \n    # Update controller hooks\n    controller._update_pruning_hooks(verbose=False)  # Reduce verbosity\n    \n    # Print stats about the pruned and kept heads - but only if we actually pruned something\n    if pruned_heads:\n        print(f\"Pruned {len(pruned_heads)} heads with lowest gradient norms\")\n        # Only show detailed metrics at the start\n        if not hasattr(apply_gradient_pruning, \"has_pruned_before\"):\n            avg_pruned = grad_norm_values[pruning_mask].mean().item()\n            avg_kept = grad_norm_values[~pruning_mask].mean().item()\n            print(f\"Average gradient of pruned heads: {avg_pruned:.6f}\")\n            print(f\"Average gradient of kept heads: {avg_kept:.6f}\")\n            print(f\"Ratio (kept/pruned): {avg_kept/avg_pruned:.2f}x\")\n            # Set flag to avoid showing these details every time\n            apply_gradient_pruning.has_pruned_before = True\n    \n    return pruned_heads\n\n# Import visualization utilities from the neural_plasticity module\nfrom utils.neural_plasticity.visualization import (\n    visualize_gradient_norms,\n    visualize_attention_patterns,\n    visualize_head_entropy,\n    visualize_pruning_decisions\n)"
  },
  {
   "cell_type": "code",
   "execution_count": 18,
   "metadata": {},
   "outputs": [],
   "source": [
    "# Convert stats dict to regular dict for serialization\n",
    "def convert_stats_for_checkpoint(stats_dict):\n",
    "    \"\"\"Convert defaultdict to regular dict for pickle serialization.\"\"\"\n",
    "    regular_dict = {}\n",
    "    for layer, heads in stats_dict.items():\n",
    "        regular_dict[layer] = {}\n",
    "        for head, values in heads.items():\n",
    "            regular_dict[layer][head] = dict(values)\n",
    "    return regular_dict\n",
    "\n"
   ]
  },
  {
   "cell_type": "code",
   "execution_count": 19,
   "metadata": {},
   "outputs": [],
   "source": [
    "# NOTE: This cell requires the controller to be defined\n",
    "# Function to save checkpoint\n",
    "# Check if controller exists\n",
    "try:\n",
    "    controller\n",
    "except NameError:\n",
    "    print(\"ERROR: The controller variable is not defined. Please run the cell that creates the plasticity controller first.\")\n",
    "    # Create a simple dummy controller to avoid breaking the notebook flow\n",
    "    controller = SimpleNamespace()\n",
    "    controller.collect_head_metrics = lambda *args, **kwargs: (None, None)\n",
    "    controller.display_stats = lambda *args, **kwargs: None\n",
    "    controller.stats = {}\n",
    "    controller.total_layers = 0\n",
    "    controller.heads_per_layer = 0\n",
    "\n",
    "\n",
    "def save_checkpoint(step, epoch):\n",
    "    checkpoint_path = os.path.join(checkpoint_dir, f\"checkpoint_step_{step}.pt\")\n",
    "    # Convert stats_dict to regular dict to avoid pickle issues\n",
    "    stats_dict = convert_stats_for_checkpoint(controller.stats)\n",
    "    torch.save({\n",
    "        'step': step,\n",
    "        'epoch': epoch,\n",
    "        'model_state_dict': model.state_dict(),\n",
    "        'optimizer_state_dict': optimizer.state_dict(),\n",
    "        'scheduler_state_dict': scheduler.state_dict(),\n",
    "        'controller_stats': stats_dict,\n",
    "        'metrics_history': metrics_history\n",
    "    }, checkpoint_path)\n",
    "    print(f\"  Checkpoint saved at step {step} (epoch {epoch})\")\n",
    "    return checkpoint_path\n",
    "\n"
   ]
  },
  {
   "cell_type": "code",
   "execution_count": 20,
   "metadata": {},
   "outputs": [],
   "source": [
    "# Function to run inference\n",
    "def run_model_inference():\n",
    "    model.eval()\n",
    "    inference_results = {}\n",
    "    \n",
    "    for prompt in inference_prompts:\n",
    "        generated_text = generate_text(prompt, max_length=50)  # Keep it shorter for quick visualization\n",
    "        inference_results[prompt] = generated_text\n",
    "        \n",
    "    print(\"\\n=== Sample Generations ===\")\n",
    "    for prompt, text in inference_results.items():\n",
    "        print(f\"Prompt: {prompt}\")\n",
    "        print(f\"Generated: {text[:100]}...\")  # Truncate for display\n",
    "        print(\"-\" * 40)\n",
    "    \n",
    "    return inference_results\n",
    "\n"
   ]
  },
  {
   "cell_type": "code",
   "execution_count": 21,
   "metadata": {},
   "outputs": [],
   "source": [
    "# Training loop\n",
    "global_step = 0\n",
    "\n"
   ]
  },
  {
   "cell_type": "code",
   "metadata": {},
   "outputs": [],
   "source": "# Training loop with Neural Plasticity using the modular API\ntry:\n    # Check if controller is defined\n    controller\nexcept NameError:\n    print(\"ERROR: The controller variable is not defined. Please run the cell that creates the plasticity controller first.\")\n    raise\n\n# Add memory management utilities\nimport gc\n\ndef clear_memory():\n    '''Clear GPU memory cache and run garbage collection'''\n    gc.collect()\n    if torch.cuda.is_available():\n        torch.cuda.empty_cache()\n        torch.cuda.synchronize()\n\n# Initialize metric tracking dictionary\nmetrics_history = {\n    \"step\": [], \"epoch\": [], \"train_loss\": [], \"eval_loss\": [],\n    \"perplexity\": [], \"pruned_heads\": [], \"revived_heads\": [],\n    \"sparsity\": [], \"total_pruned\": []\n}\n\n# Define callback function for the pruning cycle to update our metrics\ndef pruning_callback(step, epoch, metrics):\n    # Update our metrics history with the callback data\n    metrics_history[\"step\"].append(step)\n    metrics_history[\"epoch\"].append(epoch)\n    metrics_history[\"train_loss\"].append(metrics.get(\"train_loss\", 0))\n    metrics_history[\"eval_loss\"].append(metrics.get(\"eval_loss\", 0))\n    metrics_history[\"perplexity\"].append(metrics.get(\"perplexity\", 0))\n    metrics_history[\"pruned_heads\"].append(metrics.get(\"new_pruned\", 0))\n    metrics_history[\"total_pruned\"].append(metrics.get(\"total_pruned\", 0))\n    metrics_history[\"sparsity\"].append(metrics.get(\"sparsity\", 0))\n    \n    # Update the visualization\n    try:\n        pruning_monitor.update_metrics(\n            metrics, \n            step=step, \n            epoch=epoch,\n            plot=True\n        )\n    except Exception as e:\n        print(f\"Warning: Could not update visualization: {e}\")\n    \n    # Print status\n    print(f\"  Step {step} (Epoch {epoch}) - Train loss: {metrics.get('train_loss', 0):.4f}, \"\n          f\"Eval loss: {metrics.get('eval_loss', 0):.4f}, Perplexity: {metrics.get('perplexity', 0):.2f}\")\n    print(f\"  Pruning: {metrics.get('new_pruned', 0)} new heads, \"\n          f\"{metrics.get('total_pruned', 0)} total ({metrics.get('sparsity', 0):.2%} sparsity)\")\n\ntry:\n    # Track previous state to reduce logging\n    global_step = 0\n    \n    for epoch in range(NUM_EPOCHS):\n        print(f\"\\nEpoch {epoch+1}/{NUM_EPOCHS}\")\n        model.train()\n        \n        epoch_loss = 0.0\n        epoch_steps = 0\n        \n        # For each batch in the dataloader\n        for step, batch in enumerate(train_dataloader):\n            # Check if we've reached MAX_STEPS_PER_EPOCH for this epoch\n            if MAX_STEPS_PER_EPOCH is not None and step >= MAX_STEPS_PER_EPOCH:\n                print(f\"  Reached maximum steps per epoch ({MAX_STEPS_PER_EPOCH}). Moving to next epoch.\")\n                break\n                \n            # Move batch to device\n            batch = {k: v.to(device) for k, v in batch.items() if isinstance(v, torch.Tensor)}\n            \n            # Forward pass\n            outputs = model(**batch)\n            loss = outputs.loss\n            \n            # Backward pass\n            loss.backward()\n            \n            # Update weights\n            optimizer.step()\n            scheduler.step()\n            optimizer.zero_grad()\n            \n            # Track loss\n            epoch_loss += loss.item()\n            epoch_steps += 1\n            global_step += 1\n            \n            # Periodically evaluate and run pruning cycle\n            if global_step % EVAL_INTERVAL == 0:\n                # Use NeuralPlasticity API to run a complete pruning cycle\n                print(f\"\\nRunning pruning cycle at step {global_step}...\")\n                \n                pruning_results = NeuralPlasticity.run_pruning_cycle(\n                    model=model,\n                    train_dataloader=train_dataloader,\n                    eval_dataloader=validation_dataloader,\n                    pruning_level=PRUNE_PERCENT,\n                    strategy=\"combined\", \n                    learning_rate=LEARNING_RATE,\n                    training_steps=20,  # Short fine-tuning for demo\n                    callback=lambda event, estep, emetrics: pruning_callback(\n                        global_step + estep, \n                        epoch + 1, \n                        emetrics\n                    )\n                )\n                \n                # Run model inference at regular intervals\n                if global_step % INFERENCE_INTERVAL == 0:\n                    inference_results = run_model_inference()\n                    metrics_history[\"inference_samples\"] = metrics_history.get(\"inference_samples\", []) + [{\n                        \"step\": global_step,\n                        \"epoch\": epoch + 1,\n                        \"results\": inference_results\n                    }]\n                \n                # Save checkpoint at regular intervals\n                if global_step % CHECKPOINT_INTERVAL == 0:\n                    save_checkpoint(global_step, epoch + 1)\n                \n                # Reset for next interval\n                epoch_loss = 0.0\n                epoch_steps = 0\n                \n                # Back to training mode\n                model.train()\n            \n            # Just update progress occasionally without full metrics\n            elif global_step % 50 == 0:\n                print(f\"  Progress: Step {global_step} (Epoch {epoch+1})\")\n        \n        print(f\"Completed Epoch {epoch+1} - Total steps: {global_step}\")\n        # Clear memory at the end of each epoch\n        clear_memory()\n    \n    # Save final checkpoint\n    final_checkpoint_path = save_checkpoint(global_step, epoch + 1)\n    print(f\"Training completed! Final checkpoint saved at {final_checkpoint_path}\")\n    \n# Add more specific error handling for common issues\nexcept (MemoryError, RuntimeError) as e:\n    print(f\"\\nMemory or Runtime error: {e}\")\n    print(\"Attempting to recover and save checkpoint...\")\n    # Force cleanup\n    clear_memory()\n    try:\n        recovery_checkpoint_path = save_checkpoint(global_step, epoch + 1)\n        print(f\"Recovery checkpoint saved at {recovery_checkpoint_path}\")\n    except Exception as save_error:\n        print(f\"Could not save checkpoint during recovery: {save_error}\")\nexcept KeyboardInterrupt:\n    print(\"\\nTraining interrupted by user.\")\n    # Save checkpoint on interrupt\n    interrupt_checkpoint_path = save_checkpoint(global_step, epoch + 1)\n    print(f\"Checkpoint saved at {interrupt_checkpoint_path}\")\nexcept Exception as e:\n    print(f\"\\nTraining error: {e}\")\n    # Try to save checkpoint on error\n    try:\n        error_checkpoint_path = save_checkpoint(global_step, epoch + 1)\n        print(f\"Checkpoint saved at {error_checkpoint_path}\")\n    except Exception as save_error:\n        print(f\"Could not save checkpoint: {save_error}\")"
  },
  {
   "cell_type": "markdown",
   "metadata": {},
   "source": [
    "## Visualize Training Progress\n",
    "\n",
    "Let's visualize the training history to see how neural plasticity affected the model."
   ]
  },
  {
   "cell_type": "code",
   "execution_count": 23,
   "metadata": {},
   "outputs": [],
   "source": [
    "# Update the pruning monitor with metrics\n",
    "pruning_monitor.update_metrics(\n",
    "    current_metrics,\n",
    "    step=global_step,\n",
    "    epoch=epoch + 1,\n",
    "    plot=True\n",
    ")"
   ]
  },
  {
   "cell_type": "markdown",
   "metadata": {},
   "source": [
    "## Generate Text with Final Model\n",
    "\n",
    "Let's generate text with our plasticity-enhanced model to see the results."
   ]
  },
  {
   "cell_type": "code",
   "execution_count": 24,
   "metadata": {},
   "outputs": [],
   "source": [
    "# NOTE: This cell requires the controller to be defined\n",
    "# Final evaluation\n",
    "# Check if controller exists\n",
    "try:\n",
    "    controller\n",
    "except NameError:\n",
    "    print(\"ERROR: The controller variable is not defined. Please run the cell that creates the plasticity controller first.\")\n",
    "    # Create a simple dummy controller to avoid breaking the notebook flow\n",
    "    controller = SimpleNamespace()\n",
    "    controller.collect_head_metrics = lambda *args, **kwargs: (None, None)\n",
    "    controller.display_stats = lambda *args, **kwargs: None\n",
    "    controller.stats = {}\n",
    "    controller.total_layers = 0\n",
    "    controller.heads_per_layer = 0\n",
    "\n",
    "\n",
    "final_loss, final_perplexity = evaluate_model(model, validation_dataloader)\n",
    "print(f\"Final evaluation: Loss = {final_loss:.4f}, Perplexity = {final_perplexity:.2f}\")\n",
    "print(f\"Baseline:         Loss = {baseline_loss:.4f}, Perplexity = {baseline_perplexity:.2f}\")\n",
    "print(f\"Improvement:      {((baseline_loss - final_loss) / baseline_loss * 100):.2f}%\")\n",
    "\n",
    "# Get final summary\n",
    "summary = controller.get_summary()\n",
    "print(\"\\nFinal Controller Summary:\")\n",
    "print(f\"  Total heads: {summary['total_heads']}\")\n",
    "print(f\"  Pruned heads: {summary['pruned_heads']} ({summary['pruning_rate']:.2%})\")\n",
    "print(f\"  Model sparsity: {summary['sparsity']:.4f}\")\n",
    "print(f\"  Model size: {summary['model_size_mb']:.2f} MB\")"
   ]
  },
  {
   "cell_type": "markdown",
   "metadata": {},
   "source": [
    "## Generate Text with Final Model\n",
    "\n",
    "Let's generate text with our plasticity-enhanced model to see the results."
   ]
  },
  {
   "cell_type": "code",
   "execution_count": 25,
   "metadata": {},
   "outputs": [],
   "source": [
    "# Generate text with final model\n",
    "final_text = generate_text(prompt)\n",
    "\n",
    "print(\"Baseline Model Output:\")\n",
    "print(baseline_text)\n",
    "print(\"\\nPlasticity-Optimized Model Output:\")\n",
    "print(final_text)"
   ]
  },
  {
   "cell_type": "markdown",
   "metadata": {},
   "source": [
    "## Try Different Prompts\n",
    "\n",
    "Let's try generating text with different prompts to see how the model performs."
   ]
  },
  {
   "cell_type": "code",
   "execution_count": 26,
   "metadata": {},
   "outputs": [],
   "source": [
    "# Create output directory\n",
    "from datetime import datetime\n",
    "\n",
    "output_dir = os.path.join(\"output\", \"plasticity\", f\"run_{datetime.now().strftime('%Y%m%d-%H%M%S')}\")\n",
    "os.makedirs(output_dir, exist_ok=True)\n",
    "\n",
    "# Save model and tokenizer\n",
    "model.save_pretrained(output_dir)\n",
    "tokenizer.save_pretrained(output_dir)\n",
    "\n",
    "print(f\"Model saved to {output_dir}\")"
   ]
  },
  {
   "cell_type": "markdown",
   "metadata": {},
   "source": [
    "## Try Different Prompts\n",
    "\n",
    "Let's try generating text with different prompts to see how the model performs."
   ]
  },
  {
   "cell_type": "code",
   "execution_count": 27,
   "metadata": {},
   "outputs": [],
   "source": [
    "prompts = [\n",
    "    \"The meaning of life is\",\n",
    "    \"In a distant galaxy\",\n",
    "    \"The future of AI will be\",\n",
    "    \"Scientists recently discovered\"\n",
    "]\n",
    "\n",
    "for prompt in prompts:\n",
    "    print(f\"Prompt: {prompt}\")\n",
    "    generated = generate_text(prompt)\n",
    "    print(f\"Generated: {generated}\\n\")"
   ]
  },
  {
   "cell_type": "markdown",
   "metadata": {},
   "source": "# Conclusion\n\nIn this notebook, we demonstrated Sentinel AI's neural plasticity system, which enables transformer models to dynamically prune and revive attention heads during training based on their utility.\n\nKey findings:\n1. The plasticity system successfully pruned high-entropy, low-gradient heads\n2. Some heads were revived when they showed potential for useful learning\n3. The final model achieved comparable quality with fewer active heads\n4. The brain dynamics visualization shows how attention heads evolve over time\n\n## Benefits of the Modular Architecture\n\nThe new modular architecture in v0.0.60 provides several advantages:\n\n1. **Cross-Platform Compatibility**: The same code works reliably across standard CPUs, GPUs, and Apple Silicon\n2. **Simplified API**: The unified `NeuralPlasticity` class provides high-level access to all functionality\n3. **Robust Tensor Handling**: Automatically detects the execution environment and applies appropriate optimizations\n4. **Improved Numerical Stability**: Enhanced entropy calculations prevent NaN/Inf values\n5. **Performance Optimizations**: Environment-specific optimizations for maximum efficiency\n6. **Reusable Components**: Easy to integrate into other projects or customize for specific needs\n\nThis approach mimics biological neural plasticity, where brains form efficient neural pathways by pruning unused connections and strengthening useful ones.",
   "outputs": []
  }
 ],
 "metadata": {
  "kernelspec": {
   "display_name": "Python 3",
   "language": "python",
   "name": "python3"
  },
  "language_info": {
   "codemirror_mode": {
    "name": "ipython",
    "version": 3
   },
   "file_extension": ".py",
   "mimetype": "text/x-python",
   "name": "python",
   "nbconvert_exporter": "python",
   "pygments_lexer": "ipython3",
   "version": "3.10.12"
  }
 },
 "nbformat": 4,
 "nbformat_minor": 4
}